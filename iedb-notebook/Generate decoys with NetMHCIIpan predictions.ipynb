{
 "cells": [
  {
   "cell_type": "code",
   "execution_count": 1,
   "metadata": {},
   "outputs": [
    {
     "name": "stdout",
     "output_type": "stream",
     "text": [
      "Generate decoys for test data with NetMHCIIpan.ipynb\r\n",
      "Generate decoys with NetMHCIIpan predictions.ipynb\r\n",
      "Generate decoys.ipynb\r\n",
      "Select and filter Class II MHC mass spec data from IEDB.ipynb\r\n",
      "iedb-mhc2-ligands-7-29-2018.csv\r\n",
      "mhc2-decoys-7-31-2018.csv.gz\r\n"
     ]
    }
   ],
   "source": [
    "!ls"
   ]
  },
  {
   "cell_type": "code",
   "execution_count": 2,
   "metadata": {},
   "outputs": [],
   "source": [
    "hits = pd.read_csv(\"iedb-mhc2-ligands-7-29-2018.csv\")"
   ]
  },
  {
   "cell_type": "code",
   "execution_count": 3,
   "metadata": {},
   "outputs": [],
   "source": [
    "hit_seqs = set(hits.peptide)\n"
   ]
  },
  {
   "cell_type": "code",
   "execution_count": 4,
   "metadata": {},
   "outputs": [],
   "source": [
    "lengths = [len(p) for p in hit_seqs]\n",
    "lengths_set = set(lengths)\n",
    "max_length = max(lengths_set)\n",
    "length_counts = np.ones(max_length, dtype=int)\n",
    "for n in lengths:\n",
    "    length_counts[n - 1] += 1"
   ]
  },
  {
   "cell_type": "code",
   "execution_count": 5,
   "metadata": {},
   "outputs": [
    {
     "data": {
      "text/plain": [
       "array([   1,    1,    2,    1,    2,    2,    5,   71,  406,  425,  688,\n",
       "       1226, 2220, 3020, 3098, 2744, 1925, 1175,  694,  467,  299,  176,\n",
       "        130,   92,   61,   16,   21,   16,   13,   10,   11,   10,    6,\n",
       "          5,    4,    5,    5,    3,    2,    1,    1,    1,    5,    1,\n",
       "          1,    2])"
      ]
     },
     "execution_count": 5,
     "metadata": {},
     "output_type": "execute_result"
    }
   ],
   "source": [
    "length_counts"
   ]
  },
  {
   "cell_type": "code",
   "execution_count": 6,
   "metadata": {},
   "outputs": [],
   "source": [
    "length_probs = length_counts / length_counts.sum()"
   ]
  },
  {
   "cell_type": "code",
   "execution_count": 7,
   "metadata": {},
   "outputs": [
    {
     "data": {
      "text/plain": [
       "array([5.24383849e-05, 5.24383849e-05, 1.04876770e-04, 5.24383849e-05,\n",
       "       1.04876770e-04, 1.04876770e-04, 2.62191924e-04, 3.72312533e-03,\n",
       "       2.12899843e-02, 2.22863136e-02, 3.60776088e-02, 6.42894599e-02,\n",
       "       1.16413214e-01, 1.58363922e-01, 1.62454116e-01, 1.43890928e-01,\n",
       "       1.00943891e-01, 6.16151023e-02, 3.63922391e-02, 2.44887257e-02,\n",
       "       1.56790771e-02, 9.22915574e-03, 6.81699004e-03, 4.82433141e-03,\n",
       "       3.19874148e-03, 8.39014158e-04, 1.10120608e-03, 8.39014158e-04,\n",
       "       6.81699004e-04, 5.24383849e-04, 5.76822234e-04, 5.24383849e-04,\n",
       "       3.14630309e-04, 2.62191924e-04, 2.09753540e-04, 2.62191924e-04,\n",
       "       2.62191924e-04, 1.57315155e-04, 1.04876770e-04, 5.24383849e-05,\n",
       "       5.24383849e-05, 5.24383849e-05, 2.62191924e-04, 5.24383849e-05,\n",
       "       5.24383849e-05, 1.04876770e-04])"
      ]
     },
     "execution_count": 7,
     "metadata": {},
     "output_type": "execute_result"
    }
   ],
   "source": [
    "length_probs"
   ]
  },
  {
   "cell_type": "code",
   "execution_count": 8,
   "metadata": {},
   "outputs": [],
   "source": [
    "from pyensembl import ensembl_grch38\n"
   ]
  },
  {
   "cell_type": "code",
   "execution_count": 9,
   "metadata": {},
   "outputs": [],
   "source": [
    "genes = [gene for gene in ensembl_grch38.genes() if gene.biotype == \"protein_coding\"]"
   ]
  },
  {
   "cell_type": "code",
   "execution_count": 10,
   "metadata": {},
   "outputs": [
    {
     "data": {
      "text/plain": [
       "[Transcript(transcript_id=ENST00000612152, name=TSPAN6-204, gene_id=ENSG00000000003, gene_name=TSPAN6, biotype=protein_coding, location=X:100627109-100637104),\n",
       " Transcript(transcript_id=ENST00000373020, name=TSPAN6-201, gene_id=ENSG00000000003, gene_name=TSPAN6, biotype=protein_coding, location=X:100628670-100636806),\n",
       " Transcript(transcript_id=ENST00000614008, name=TSPAN6-205, gene_id=ENSG00000000003, gene_name=TSPAN6, biotype=protein_coding, location=X:100632063-100637104),\n",
       " Transcript(transcript_id=ENST00000496771, name=TSPAN6-203, gene_id=ENSG00000000003, gene_name=TSPAN6, biotype=processed_transcript, location=X:100632541-100636689),\n",
       " Transcript(transcript_id=ENST00000494424, name=TSPAN6-202, gene_id=ENSG00000000003, gene_name=TSPAN6, biotype=processed_transcript, location=X:100633442-100639991)]"
      ]
     },
     "execution_count": 10,
     "metadata": {},
     "output_type": "execute_result"
    }
   ],
   "source": [
    "genes[0].transcripts"
   ]
  },
  {
   "cell_type": "code",
   "execution_count": 11,
   "metadata": {},
   "outputs": [
    {
     "name": "stderr",
     "output_type": "stream",
     "text": [
      "INFO:pyensembl.sequence_data:Loaded sequence dictionary from /Users/iskander/Library/Caches/pyensembl/GRCh38/ensembl93/Homo_sapiens.GRCh38.pep.all.fa.gz.pickle\n"
     ]
    },
    {
     "data": {
      "text/plain": [
       "'MLKLYAMFLTLVFLVELVAAIVGFVFRHEIKNSFKNNYEKALKQYNSTGDYRSHAVDKIQNTLHCCGVTDYRDWTDTNYYSEKGFPKSCCKLEDCTPQRDADKVNNELIGIFLAYCLSRAITNNQYEIV'"
      ]
     },
     "execution_count": 11,
     "metadata": {},
     "output_type": "execute_result"
    }
   ],
   "source": [
    "genes[0].transcripts[0].protein_sequence"
   ]
  },
  {
   "cell_type": "code",
   "execution_count": 57,
   "metadata": {},
   "outputs": [],
   "source": [
    "def concat_protein_sequences(genome=ensembl_grch38, _cache={}):\n",
    "    if genome in _cache:\n",
    "        return _cache[genome]\n",
    "    genes = [gene for gene in genome.genes() if gene.biotype == \"protein_coding\"]\n",
    "    all_protein_sequences = []\n",
    "    for gene in genes:\n",
    "        curr_transcripts = [\n",
    "            t for t in gene.transcripts if t.biotype == \"protein_coding\" \n",
    "        ]\n",
    "        protein_sequences = [\n",
    "            t.protein_sequence for t in curr_transcripts \n",
    "            if  t.protein_sequence is not None \n",
    "            and \"*\" not in t.protein_sequence\n",
    "            and \"X\" not in t.protein_sequence\n",
    "        ]\n",
    "        if len(protein_sequences) == 0:\n",
    "            continue \n",
    "        all_protein_sequences.append(max(protein_sequences, key=len))\n",
    "    long_str =  \"\".join(all_protein_sequences)\n",
    "    _cache[genome] = long_str\n",
    "    return long_str\n",
    "\n",
    "all_proteins = concat_protein_sequences()"
   ]
  },
  {
   "cell_type": "code",
   "execution_count": 58,
   "metadata": {},
   "outputs": [
    {
     "data": {
      "text/plain": [
       "11382812"
      ]
     },
     "execution_count": 58,
     "metadata": {},
     "output_type": "execute_result"
    }
   ],
   "source": [
    "len(all_proteins)"
   ]
  },
  {
   "cell_type": "code",
   "execution_count": 59,
   "metadata": {},
   "outputs": [],
   "source": [
    "def generate_decoys_for_allele(\n",
    "        hit_seqs, \n",
    "        min_length=9,\n",
    "        max_length=None,\n",
    "        decoys_per_hit=100, \n",
    "        genome=ensembl_grch38,\n",
    "        length_pseudocount=2):\n",
    "    n_hits = len(hit_seqs)\n",
    "    lengths = [len(p) for p in hit_seqs]\n",
    "    lengths_set = set(lengths)\n",
    "    if max_length is None:\n",
    "        max_length = max(lengths_set)\n",
    "    length_counts = np.ones(max_length - min_length + 1, dtype=int) * length_pseudocount\n",
    "    for n in lengths:\n",
    "        if n < min_length:\n",
    "            continue\n",
    "        length_counts[n - min_length] += 1\n",
    "    length_probs = length_counts / length_counts.sum()\n",
    "    \n",
    "    n_decoys = n_hits * decoys_per_hit\n",
    "    long_protein_str = concat_protein_sequences(genome)\n",
    "    max_pos = len(long_protein_str)\n",
    "    random_indices = np.random.randint(0, max_pos, n_decoys, dtype=\"int64\")\n",
    "    \n",
    "    random_lengths = np.random.choice(\n",
    "        a=min_length + np.arange(max_length - min_length + 1),\n",
    "        size=n_decoys,\n",
    "        replace=True,\n",
    "        p=length_probs)\n",
    "    decoys = []\n",
    "    for i, n  in zip(random_indices, random_lengths):\n",
    "        decoys.append(long_protein_str[i:i+n])\n",
    "    return decoys\n",
    "\n",
    "def generate_decoys(df_hits, decoys_per_hit=200, genome=ensembl_grch38, length_pseudocount=2, min_length=9):\n",
    "    columns = {\"allele\": [], \"peptide\": []}\n",
    "    max_length = df_hits.peptide.str.len().max()\n",
    "    for allele, df_allele in df_hits.groupby(\"inferred_allele\"):\n",
    "        print(\"%s (%d)\" % (allele, len(df_allele)))\n",
    "        decoys = generate_decoys_for_allele(\n",
    "            hit_seqs=set(df_allele.peptide),\n",
    "            min_length=min_length,\n",
    "            max_length=max_length,\n",
    "            decoys_per_hit=decoys_per_hit,\n",
    "            genome=genome,\n",
    "            length_pseudocount=length_pseudocount)\n",
    "        decoy_lengths = [len(p) for p in decoys]\n",
    "        print(\"==> generated %d decoys (min length=%d, max length=%d, mean length=%f)\" % (\n",
    "            len(decoys),\n",
    "            min(decoy_lengths),\n",
    "            max(decoy_lengths),\n",
    "            np.mean(decoy_lengths)))\n",
    "        \n",
    "        columns[\"allele\"].extend([allele] * len(decoys))\n",
    "        columns[\"peptide\"].extend(decoys)\n",
    "    df_decoys = pd.DataFrame(columns)\n",
    "    return df_decoys\n"
   ]
  },
  {
   "cell_type": "code",
   "execution_count": 60,
   "metadata": {},
   "outputs": [
    {
     "name": "stdout",
     "output_type": "stream",
     "text": [
      "HLA-DPA1*01:03/DPB1*02:01 (12)\n",
      "==> generated 600 decoys (min length=9, max length=46, mean length=25.721667)\n",
      "HLA-DPA1*01:03/DPB1*04:01 (4)\n",
      "==> generated 200 decoys (min length=9, max length=46, mean length=26.380000)\n",
      "HLA-DQA1*01:01/DQB1*05:01 (33)\n",
      "==> generated 1650 decoys (min length=9, max length=46, mean length=24.415758)\n",
      "HLA-DQA1*01:02/DQB1*03:01 (6)\n",
      "==> generated 300 decoys (min length=9, max length=46, mean length=26.243333)\n",
      "HLA-DQA1*01:02/DQB1*05:01 (1)\n",
      "==> generated 50 decoys (min length=9, max length=45, mean length=24.080000)\n",
      "HLA-DQA1*01:02/DQB1*06:02 (55)\n",
      "==> generated 2600 decoys (min length=9, max length=46, mean length=23.087692)\n",
      "HLA-DQA1*01:02/DQB1*06:04 (1)\n",
      "==> generated 50 decoys (min length=9, max length=46, mean length=27.980000)\n",
      "HLA-DQA1*02:01/DQB1*02:02 (7355)\n",
      "==> generated 367050 decoys (min length=9, max length=46, mean length=14.812241)\n",
      "HLA-DQA1*03:01/DQB1*02:01 (13)\n",
      "==> generated 650 decoys (min length=9, max length=46, mean length=26.435385)\n",
      "HLA-DQA1*03:01/DQB1*03:02 (20)\n",
      "==> generated 950 decoys (min length=9, max length=46, mean length=25.980000)\n",
      "HLA-DQA1*05:01/DQB1*02:01 (4399)\n",
      "==> generated 214750 decoys (min length=9, max length=46, mean length=15.118398)\n",
      "HLA-DQA1*05:01/DQB1*03:02 (19)\n",
      "==> generated 950 decoys (min length=9, max length=46, mean length=25.375789)\n",
      "HLA-DQA1*05:05/DQB1*03:01 (7431)\n",
      "==> generated 371550 decoys (min length=9, max length=46, mean length=15.136601)\n",
      "HLA-DRA1*01:01/DRB1*01:01 (3638)\n",
      "==> generated 178850 decoys (min length=9, max length=46, mean length=15.944915)\n",
      "HLA-DRA1*01:01/DRB1*01:02 (6)\n",
      "==> generated 300 decoys (min length=9, max length=46, mean length=26.056667)\n",
      "HLA-DRA1*01:01/DRB1*01:03 (150)\n",
      "==> generated 7500 decoys (min length=9, max length=46, mean length=19.123333)\n",
      "HLA-DRA1*01:01/DRB1*03:01 (186)\n",
      "==> generated 9200 decoys (min length=9, max length=46, mean length=18.309239)\n",
      "HLA-DRA1*01:01/DRB1*04:01 (1254)\n",
      "==> generated 59000 decoys (min length=9, max length=46, mean length=16.550864)\n",
      "HLA-DRA1*01:01/DRB1*04:02 (51)\n",
      "==> generated 2000 decoys (min length=9, max length=46, mean length=23.326500)\n",
      "HLA-DRA1*01:01/DRB1*04:04 (55)\n",
      "==> generated 2700 decoys (min length=9, max length=46, mean length=22.548148)\n",
      "HLA-DRA1*01:01/DRB1*04:05 (35)\n",
      "==> generated 1700 decoys (min length=9, max length=46, mean length=23.837059)\n",
      "HLA-DRA1*01:01/DRB1*08:01 (486)\n",
      "==> generated 24300 decoys (min length=9, max length=46, mean length=18.519177)\n",
      "HLA-DRA1*01:01/DRB1*09:01 (18)\n",
      "==> generated 900 decoys (min length=9, max length=46, mean length=25.292222)\n",
      "HLA-DRA1*01:01/DRB1*10:01 (238)\n",
      "==> generated 11900 decoys (min length=9, max length=46, mean length=18.651345)\n",
      "HLA-DRA1*01:01/DRB1*11:01 (104)\n",
      "==> generated 5200 decoys (min length=9, max length=46, mean length=19.744038)\n",
      "HLA-DRA1*01:01/DRB1*11:04 (24)\n",
      "==> generated 1200 decoys (min length=9, max length=46, mean length=24.960000)\n",
      "HLA-DRA1*01:01/DRB1*13:01 (24)\n",
      "==> generated 1200 decoys (min length=9, max length=46, mean length=25.205833)\n",
      "HLA-DRA1*01:01/DRB1*13:02 (22)\n",
      "==> generated 1100 decoys (min length=9, max length=46, mean length=25.382727)\n",
      "HLA-DRA1*01:01/DRB1*15:01 (678)\n",
      "==> generated 32900 decoys (min length=9, max length=46, mean length=16.978632)\n",
      "HLA-DRA1*01:01/DRB3*01:01 (4)\n",
      "==> generated 200 decoys (min length=9, max length=46, mean length=26.365000)\n",
      "HLA-DRA1*01:01/DRB3*02:02 (13)\n",
      "==> generated 550 decoys (min length=9, max length=46, mean length=26.583636)\n",
      "HLA-DRA1*01:01/DRB3*03:01 (3)\n",
      "==> generated 150 decoys (min length=9, max length=46, mean length=26.546667)\n",
      "HLA-DRA1*01:01/DRB5*01:01 (223)\n",
      "==> generated 10300 decoys (min length=9, max length=46, mean length=20.279320)\n"
     ]
    }
   ],
   "source": [
    "df_decoys = generate_decoys(df_hits=hits, decoys_per_hit=50)"
   ]
  },
  {
   "cell_type": "code",
   "execution_count": 61,
   "metadata": {},
   "outputs": [],
   "source": [
    "alleles = df_decoys.allele.unique()"
   ]
  },
  {
   "cell_type": "code",
   "execution_count": 62,
   "metadata": {},
   "outputs": [
    {
     "name": "stderr",
     "output_type": "stream",
     "text": [
      "INFO:mhctools.base_commandline_predictor:Skipping allele DRB5_0108N: The suffix 'N' of 'DRB5*0108N' was not parsed\n",
      "INFO:mhctools.base_commandline_predictor:Skipping allele BoLA-DRA-DRB30101\tBoLA-DRA-DRB30101: Allele has too many parts: DRA-DRB30101\tBoLA-DRA-DRB30101\n",
      "INFO:mhctools.base_commandline_predictor:Skipping allele BoLA-DRA-DRB31101\tBoLA-DRA-DRB31101: Allele has too many parts: DRA-DRB31101\tBoLA-DRA-DRB31101\n",
      "INFO:mhctools.base_commandline_predictor:Skipping allele BoLA-DRA-DRB31501\tBoLA-DRA-DRB31501: Allele has too many parts: DRA-DRB31501\tBoLA-DRA-DRB31501\n",
      "INFO:mhctools.base_commandline_predictor:Skipping allele DRB5_0108N: The suffix 'N' of 'DRB5*0108N' was not parsed\n",
      "INFO:mhctools.base_commandline_predictor:Skipping allele BoLA-DRA-DRB30101\tBoLA-DRA-DRB30101: Allele has too many parts: DRA-DRB30101\tBoLA-DRA-DRB30101\n",
      "INFO:mhctools.base_commandline_predictor:Skipping allele BoLA-DRA-DRB31101\tBoLA-DRA-DRB31101: Allele has too many parts: DRA-DRB31101\tBoLA-DRA-DRB31101\n",
      "INFO:mhctools.base_commandline_predictor:Skipping allele BoLA-DRA-DRB31501\tBoLA-DRA-DRB31501: Allele has too many parts: DRA-DRB31501\tBoLA-DRA-DRB31501\n",
      "INFO:mhctools.base_commandline_predictor:Skipping allele DRB5_0108N: The suffix 'N' of 'DRB5*0108N' was not parsed\n",
      "INFO:mhctools.base_commandline_predictor:Skipping allele BoLA-DRA-DRB30101\tBoLA-DRA-DRB30101: Allele has too many parts: DRA-DRB30101\tBoLA-DRA-DRB30101\n",
      "INFO:mhctools.base_commandline_predictor:Skipping allele BoLA-DRA-DRB31101\tBoLA-DRA-DRB31101: Allele has too many parts: DRA-DRB31101\tBoLA-DRA-DRB31101\n",
      "INFO:mhctools.base_commandline_predictor:Skipping allele BoLA-DRA-DRB31501\tBoLA-DRA-DRB31501: Allele has too many parts: DRA-DRB31501\tBoLA-DRA-DRB31501\n",
      "INFO:mhctools.base_commandline_predictor:Skipping allele DRB5_0108N: The suffix 'N' of 'DRB5*0108N' was not parsed\n",
      "INFO:mhctools.base_commandline_predictor:Skipping allele BoLA-DRA-DRB30101\tBoLA-DRA-DRB30101: Allele has too many parts: DRA-DRB30101\tBoLA-DRA-DRB30101\n",
      "INFO:mhctools.base_commandline_predictor:Skipping allele BoLA-DRA-DRB31101\tBoLA-DRA-DRB31101: Allele has too many parts: DRA-DRB31101\tBoLA-DRA-DRB31101\n",
      "INFO:mhctools.base_commandline_predictor:Skipping allele BoLA-DRA-DRB31501\tBoLA-DRA-DRB31501: Allele has too many parts: DRA-DRB31501\tBoLA-DRA-DRB31501\n",
      "INFO:mhctools.base_commandline_predictor:Skipping allele DRB5_0108N: The suffix 'N' of 'DRB5*0108N' was not parsed\n",
      "INFO:mhctools.base_commandline_predictor:Skipping allele BoLA-DRA-DRB30101\tBoLA-DRA-DRB30101: Allele has too many parts: DRA-DRB30101\tBoLA-DRA-DRB30101\n",
      "INFO:mhctools.base_commandline_predictor:Skipping allele BoLA-DRA-DRB31101\tBoLA-DRA-DRB31101: Allele has too many parts: DRA-DRB31101\tBoLA-DRA-DRB31101\n",
      "INFO:mhctools.base_commandline_predictor:Skipping allele BoLA-DRA-DRB31501\tBoLA-DRA-DRB31501: Allele has too many parts: DRA-DRB31501\tBoLA-DRA-DRB31501\n",
      "INFO:mhctools.base_commandline_predictor:Skipping allele DRB5_0108N: The suffix 'N' of 'DRB5*0108N' was not parsed\n",
      "INFO:mhctools.base_commandline_predictor:Skipping allele BoLA-DRA-DRB30101\tBoLA-DRA-DRB30101: Allele has too many parts: DRA-DRB30101\tBoLA-DRA-DRB30101\n",
      "INFO:mhctools.base_commandline_predictor:Skipping allele BoLA-DRA-DRB31101\tBoLA-DRA-DRB31101: Allele has too many parts: DRA-DRB31101\tBoLA-DRA-DRB31101\n",
      "INFO:mhctools.base_commandline_predictor:Skipping allele BoLA-DRA-DRB31501\tBoLA-DRA-DRB31501: Allele has too many parts: DRA-DRB31501\tBoLA-DRA-DRB31501\n",
      "INFO:mhctools.base_commandline_predictor:Skipping allele DRB5_0108N: The suffix 'N' of 'DRB5*0108N' was not parsed\n",
      "INFO:mhctools.base_commandline_predictor:Skipping allele BoLA-DRA-DRB30101\tBoLA-DRA-DRB30101: Allele has too many parts: DRA-DRB30101\tBoLA-DRA-DRB30101\n",
      "INFO:mhctools.base_commandline_predictor:Skipping allele BoLA-DRA-DRB31101\tBoLA-DRA-DRB31101: Allele has too many parts: DRA-DRB31101\tBoLA-DRA-DRB31101\n",
      "INFO:mhctools.base_commandline_predictor:Skipping allele BoLA-DRA-DRB31501\tBoLA-DRA-DRB31501: Allele has too many parts: DRA-DRB31501\tBoLA-DRA-DRB31501\n",
      "INFO:mhctools.base_commandline_predictor:Skipping allele DRB5_0108N: The suffix 'N' of 'DRB5*0108N' was not parsed\n",
      "INFO:mhctools.base_commandline_predictor:Skipping allele BoLA-DRA-DRB30101\tBoLA-DRA-DRB30101: Allele has too many parts: DRA-DRB30101\tBoLA-DRA-DRB30101\n",
      "INFO:mhctools.base_commandline_predictor:Skipping allele BoLA-DRA-DRB31101\tBoLA-DRA-DRB31101: Allele has too many parts: DRA-DRB31101\tBoLA-DRA-DRB31101\n",
      "INFO:mhctools.base_commandline_predictor:Skipping allele BoLA-DRA-DRB31501\tBoLA-DRA-DRB31501: Allele has too many parts: DRA-DRB31501\tBoLA-DRA-DRB31501\n",
      "INFO:mhctools.base_commandline_predictor:Skipping allele DRB5_0108N: The suffix 'N' of 'DRB5*0108N' was not parsed\n",
      "INFO:mhctools.base_commandline_predictor:Skipping allele BoLA-DRA-DRB30101\tBoLA-DRA-DRB30101: Allele has too many parts: DRA-DRB30101\tBoLA-DRA-DRB30101\n",
      "INFO:mhctools.base_commandline_predictor:Skipping allele BoLA-DRA-DRB31101\tBoLA-DRA-DRB31101: Allele has too many parts: DRA-DRB31101\tBoLA-DRA-DRB31101\n",
      "INFO:mhctools.base_commandline_predictor:Skipping allele BoLA-DRA-DRB31501\tBoLA-DRA-DRB31501: Allele has too many parts: DRA-DRB31501\tBoLA-DRA-DRB31501\n",
      "INFO:mhctools.base_commandline_predictor:Skipping allele DRB5_0108N: The suffix 'N' of 'DRB5*0108N' was not parsed\n",
      "INFO:mhctools.base_commandline_predictor:Skipping allele BoLA-DRA-DRB30101\tBoLA-DRA-DRB30101: Allele has too many parts: DRA-DRB30101\tBoLA-DRA-DRB30101\n",
      "INFO:mhctools.base_commandline_predictor:Skipping allele BoLA-DRA-DRB31101\tBoLA-DRA-DRB31101: Allele has too many parts: DRA-DRB31101\tBoLA-DRA-DRB31101\n",
      "INFO:mhctools.base_commandline_predictor:Skipping allele BoLA-DRA-DRB31501\tBoLA-DRA-DRB31501: Allele has too many parts: DRA-DRB31501\tBoLA-DRA-DRB31501\n",
      "INFO:mhctools.base_commandline_predictor:Skipping allele DRB5_0108N: The suffix 'N' of 'DRB5*0108N' was not parsed\n",
      "INFO:mhctools.base_commandline_predictor:Skipping allele BoLA-DRA-DRB30101\tBoLA-DRA-DRB30101: Allele has too many parts: DRA-DRB30101\tBoLA-DRA-DRB30101\n",
      "INFO:mhctools.base_commandline_predictor:Skipping allele BoLA-DRA-DRB31101\tBoLA-DRA-DRB31101: Allele has too many parts: DRA-DRB31101\tBoLA-DRA-DRB31101\n",
      "INFO:mhctools.base_commandline_predictor:Skipping allele BoLA-DRA-DRB31501\tBoLA-DRA-DRB31501: Allele has too many parts: DRA-DRB31501\tBoLA-DRA-DRB31501\n",
      "INFO:mhctools.base_commandline_predictor:Skipping allele DRB5_0108N: The suffix 'N' of 'DRB5*0108N' was not parsed\n",
      "INFO:mhctools.base_commandline_predictor:Skipping allele BoLA-DRA-DRB30101\tBoLA-DRA-DRB30101: Allele has too many parts: DRA-DRB30101\tBoLA-DRA-DRB30101\n",
      "INFO:mhctools.base_commandline_predictor:Skipping allele BoLA-DRA-DRB31101\tBoLA-DRA-DRB31101: Allele has too many parts: DRA-DRB31101\tBoLA-DRA-DRB31101\n",
      "INFO:mhctools.base_commandline_predictor:Skipping allele BoLA-DRA-DRB31501\tBoLA-DRA-DRB31501: Allele has too many parts: DRA-DRB31501\tBoLA-DRA-DRB31501\n",
      "INFO:mhctools.base_commandline_predictor:Skipping allele DRB5_0108N: The suffix 'N' of 'DRB5*0108N' was not parsed\n",
      "INFO:mhctools.base_commandline_predictor:Skipping allele BoLA-DRA-DRB30101\tBoLA-DRA-DRB30101: Allele has too many parts: DRA-DRB30101\tBoLA-DRA-DRB30101\n",
      "INFO:mhctools.base_commandline_predictor:Skipping allele BoLA-DRA-DRB31101\tBoLA-DRA-DRB31101: Allele has too many parts: DRA-DRB31101\tBoLA-DRA-DRB31101\n",
      "INFO:mhctools.base_commandline_predictor:Skipping allele BoLA-DRA-DRB31501\tBoLA-DRA-DRB31501: Allele has too many parts: DRA-DRB31501\tBoLA-DRA-DRB31501\n",
      "INFO:mhctools.base_commandline_predictor:Skipping allele DRB5_0108N: The suffix 'N' of 'DRB5*0108N' was not parsed\n",
      "INFO:mhctools.base_commandline_predictor:Skipping allele BoLA-DRA-DRB30101\tBoLA-DRA-DRB30101: Allele has too many parts: DRA-DRB30101\tBoLA-DRA-DRB30101\n",
      "INFO:mhctools.base_commandline_predictor:Skipping allele BoLA-DRA-DRB31101\tBoLA-DRA-DRB31101: Allele has too many parts: DRA-DRB31101\tBoLA-DRA-DRB31101\n",
      "INFO:mhctools.base_commandline_predictor:Skipping allele BoLA-DRA-DRB31501\tBoLA-DRA-DRB31501: Allele has too many parts: DRA-DRB31501\tBoLA-DRA-DRB31501\n",
      "INFO:mhctools.base_commandline_predictor:Skipping allele DRB5_0108N: The suffix 'N' of 'DRB5*0108N' was not parsed\n",
      "INFO:mhctools.base_commandline_predictor:Skipping allele BoLA-DRA-DRB30101\tBoLA-DRA-DRB30101: Allele has too many parts: DRA-DRB30101\tBoLA-DRA-DRB30101\n"
     ]
    },
    {
     "name": "stderr",
     "output_type": "stream",
     "text": [
      "INFO:mhctools.base_commandline_predictor:Skipping allele BoLA-DRA-DRB31101\tBoLA-DRA-DRB31101: Allele has too many parts: DRA-DRB31101\tBoLA-DRA-DRB31101\n",
      "INFO:mhctools.base_commandline_predictor:Skipping allele BoLA-DRA-DRB31501\tBoLA-DRA-DRB31501: Allele has too many parts: DRA-DRB31501\tBoLA-DRA-DRB31501\n",
      "INFO:mhctools.base_commandline_predictor:Skipping allele DRB5_0108N: The suffix 'N' of 'DRB5*0108N' was not parsed\n",
      "INFO:mhctools.base_commandline_predictor:Skipping allele BoLA-DRA-DRB30101\tBoLA-DRA-DRB30101: Allele has too many parts: DRA-DRB30101\tBoLA-DRA-DRB30101\n",
      "INFO:mhctools.base_commandline_predictor:Skipping allele BoLA-DRA-DRB31101\tBoLA-DRA-DRB31101: Allele has too many parts: DRA-DRB31101\tBoLA-DRA-DRB31101\n",
      "INFO:mhctools.base_commandline_predictor:Skipping allele BoLA-DRA-DRB31501\tBoLA-DRA-DRB31501: Allele has too many parts: DRA-DRB31501\tBoLA-DRA-DRB31501\n",
      "INFO:mhctools.base_commandline_predictor:Skipping allele DRB5_0108N: The suffix 'N' of 'DRB5*0108N' was not parsed\n",
      "INFO:mhctools.base_commandline_predictor:Skipping allele BoLA-DRA-DRB30101\tBoLA-DRA-DRB30101: Allele has too many parts: DRA-DRB30101\tBoLA-DRA-DRB30101\n",
      "INFO:mhctools.base_commandline_predictor:Skipping allele BoLA-DRA-DRB31101\tBoLA-DRA-DRB31101: Allele has too many parts: DRA-DRB31101\tBoLA-DRA-DRB31101\n",
      "INFO:mhctools.base_commandline_predictor:Skipping allele BoLA-DRA-DRB31501\tBoLA-DRA-DRB31501: Allele has too many parts: DRA-DRB31501\tBoLA-DRA-DRB31501\n",
      "INFO:mhctools.base_commandline_predictor:Skipping allele DRB5_0108N: The suffix 'N' of 'DRB5*0108N' was not parsed\n",
      "INFO:mhctools.base_commandline_predictor:Skipping allele BoLA-DRA-DRB30101\tBoLA-DRA-DRB30101: Allele has too many parts: DRA-DRB30101\tBoLA-DRA-DRB30101\n",
      "INFO:mhctools.base_commandline_predictor:Skipping allele BoLA-DRA-DRB31101\tBoLA-DRA-DRB31101: Allele has too many parts: DRA-DRB31101\tBoLA-DRA-DRB31101\n",
      "INFO:mhctools.base_commandline_predictor:Skipping allele BoLA-DRA-DRB31501\tBoLA-DRA-DRB31501: Allele has too many parts: DRA-DRB31501\tBoLA-DRA-DRB31501\n",
      "INFO:mhctools.base_commandline_predictor:Skipping allele DRB5_0108N: The suffix 'N' of 'DRB5*0108N' was not parsed\n",
      "INFO:mhctools.base_commandline_predictor:Skipping allele BoLA-DRA-DRB30101\tBoLA-DRA-DRB30101: Allele has too many parts: DRA-DRB30101\tBoLA-DRA-DRB30101\n",
      "INFO:mhctools.base_commandline_predictor:Skipping allele BoLA-DRA-DRB31101\tBoLA-DRA-DRB31101: Allele has too many parts: DRA-DRB31101\tBoLA-DRA-DRB31101\n",
      "INFO:mhctools.base_commandline_predictor:Skipping allele BoLA-DRA-DRB31501\tBoLA-DRA-DRB31501: Allele has too many parts: DRA-DRB31501\tBoLA-DRA-DRB31501\n",
      "INFO:mhctools.base_commandline_predictor:Skipping allele DRB5_0108N: The suffix 'N' of 'DRB5*0108N' was not parsed\n",
      "INFO:mhctools.base_commandline_predictor:Skipping allele BoLA-DRA-DRB30101\tBoLA-DRA-DRB30101: Allele has too many parts: DRA-DRB30101\tBoLA-DRA-DRB30101\n",
      "INFO:mhctools.base_commandline_predictor:Skipping allele BoLA-DRA-DRB31101\tBoLA-DRA-DRB31101: Allele has too many parts: DRA-DRB31101\tBoLA-DRA-DRB31101\n",
      "INFO:mhctools.base_commandline_predictor:Skipping allele BoLA-DRA-DRB31501\tBoLA-DRA-DRB31501: Allele has too many parts: DRA-DRB31501\tBoLA-DRA-DRB31501\n",
      "INFO:mhctools.base_commandline_predictor:Skipping allele DRB5_0108N: The suffix 'N' of 'DRB5*0108N' was not parsed\n",
      "INFO:mhctools.base_commandline_predictor:Skipping allele BoLA-DRA-DRB30101\tBoLA-DRA-DRB30101: Allele has too many parts: DRA-DRB30101\tBoLA-DRA-DRB30101\n",
      "INFO:mhctools.base_commandline_predictor:Skipping allele BoLA-DRA-DRB31101\tBoLA-DRA-DRB31101: Allele has too many parts: DRA-DRB31101\tBoLA-DRA-DRB31101\n",
      "INFO:mhctools.base_commandline_predictor:Skipping allele BoLA-DRA-DRB31501\tBoLA-DRA-DRB31501: Allele has too many parts: DRA-DRB31501\tBoLA-DRA-DRB31501\n",
      "INFO:mhctools.base_commandline_predictor:Skipping allele DRB5_0108N: The suffix 'N' of 'DRB5*0108N' was not parsed\n",
      "INFO:mhctools.base_commandline_predictor:Skipping allele BoLA-DRA-DRB30101\tBoLA-DRA-DRB30101: Allele has too many parts: DRA-DRB30101\tBoLA-DRA-DRB30101\n",
      "INFO:mhctools.base_commandline_predictor:Skipping allele BoLA-DRA-DRB31101\tBoLA-DRA-DRB31101: Allele has too many parts: DRA-DRB31101\tBoLA-DRA-DRB31101\n",
      "INFO:mhctools.base_commandline_predictor:Skipping allele BoLA-DRA-DRB31501\tBoLA-DRA-DRB31501: Allele has too many parts: DRA-DRB31501\tBoLA-DRA-DRB31501\n",
      "INFO:mhctools.base_commandline_predictor:Skipping allele DRB5_0108N: The suffix 'N' of 'DRB5*0108N' was not parsed\n",
      "INFO:mhctools.base_commandline_predictor:Skipping allele BoLA-DRA-DRB30101\tBoLA-DRA-DRB30101: Allele has too many parts: DRA-DRB30101\tBoLA-DRA-DRB30101\n",
      "INFO:mhctools.base_commandline_predictor:Skipping allele BoLA-DRA-DRB31101\tBoLA-DRA-DRB31101: Allele has too many parts: DRA-DRB31101\tBoLA-DRA-DRB31101\n",
      "INFO:mhctools.base_commandline_predictor:Skipping allele BoLA-DRA-DRB31501\tBoLA-DRA-DRB31501: Allele has too many parts: DRA-DRB31501\tBoLA-DRA-DRB31501\n",
      "INFO:mhctools.base_commandline_predictor:Skipping allele DRB5_0108N: The suffix 'N' of 'DRB5*0108N' was not parsed\n",
      "INFO:mhctools.base_commandline_predictor:Skipping allele BoLA-DRA-DRB30101\tBoLA-DRA-DRB30101: Allele has too many parts: DRA-DRB30101\tBoLA-DRA-DRB30101\n",
      "INFO:mhctools.base_commandline_predictor:Skipping allele BoLA-DRA-DRB31101\tBoLA-DRA-DRB31101: Allele has too many parts: DRA-DRB31101\tBoLA-DRA-DRB31101\n",
      "INFO:mhctools.base_commandline_predictor:Skipping allele BoLA-DRA-DRB31501\tBoLA-DRA-DRB31501: Allele has too many parts: DRA-DRB31501\tBoLA-DRA-DRB31501\n",
      "INFO:mhctools.base_commandline_predictor:Skipping allele DRB5_0108N: The suffix 'N' of 'DRB5*0108N' was not parsed\n",
      "INFO:mhctools.base_commandline_predictor:Skipping allele BoLA-DRA-DRB30101\tBoLA-DRA-DRB30101: Allele has too many parts: DRA-DRB30101\tBoLA-DRA-DRB30101\n",
      "INFO:mhctools.base_commandline_predictor:Skipping allele BoLA-DRA-DRB31101\tBoLA-DRA-DRB31101: Allele has too many parts: DRA-DRB31101\tBoLA-DRA-DRB31101\n",
      "INFO:mhctools.base_commandline_predictor:Skipping allele BoLA-DRA-DRB31501\tBoLA-DRA-DRB31501: Allele has too many parts: DRA-DRB31501\tBoLA-DRA-DRB31501\n",
      "INFO:mhctools.base_commandline_predictor:Skipping allele DRB5_0108N: The suffix 'N' of 'DRB5*0108N' was not parsed\n",
      "INFO:mhctools.base_commandline_predictor:Skipping allele BoLA-DRA-DRB30101\tBoLA-DRA-DRB30101: Allele has too many parts: DRA-DRB30101\tBoLA-DRA-DRB30101\n",
      "INFO:mhctools.base_commandline_predictor:Skipping allele BoLA-DRA-DRB31101\tBoLA-DRA-DRB31101: Allele has too many parts: DRA-DRB31101\tBoLA-DRA-DRB31101\n",
      "INFO:mhctools.base_commandline_predictor:Skipping allele BoLA-DRA-DRB31501\tBoLA-DRA-DRB31501: Allele has too many parts: DRA-DRB31501\tBoLA-DRA-DRB31501\n",
      "INFO:mhctools.base_commandline_predictor:Skipping allele DRB5_0108N: The suffix 'N' of 'DRB5*0108N' was not parsed\n",
      "INFO:mhctools.base_commandline_predictor:Skipping allele BoLA-DRA-DRB30101\tBoLA-DRA-DRB30101: Allele has too many parts: DRA-DRB30101\tBoLA-DRA-DRB30101\n",
      "INFO:mhctools.base_commandline_predictor:Skipping allele BoLA-DRA-DRB31101\tBoLA-DRA-DRB31101: Allele has too many parts: DRA-DRB31101\tBoLA-DRA-DRB31101\n",
      "INFO:mhctools.base_commandline_predictor:Skipping allele BoLA-DRA-DRB31501\tBoLA-DRA-DRB31501: Allele has too many parts: DRA-DRB31501\tBoLA-DRA-DRB31501\n",
      "INFO:mhctools.base_commandline_predictor:Skipping allele DRB5_0108N: The suffix 'N' of 'DRB5*0108N' was not parsed\n",
      "INFO:mhctools.base_commandline_predictor:Skipping allele BoLA-DRA-DRB30101\tBoLA-DRA-DRB30101: Allele has too many parts: DRA-DRB30101\tBoLA-DRA-DRB30101\n",
      "INFO:mhctools.base_commandline_predictor:Skipping allele BoLA-DRA-DRB31101\tBoLA-DRA-DRB31101: Allele has too many parts: DRA-DRB31101\tBoLA-DRA-DRB31101\n",
      "INFO:mhctools.base_commandline_predictor:Skipping allele BoLA-DRA-DRB31501\tBoLA-DRA-DRB31501: Allele has too many parts: DRA-DRB31501\tBoLA-DRA-DRB31501\n",
      "INFO:mhctools.base_commandline_predictor:Skipping allele DRB5_0108N: The suffix 'N' of 'DRB5*0108N' was not parsed\n",
      "INFO:mhctools.base_commandline_predictor:Skipping allele BoLA-DRA-DRB30101\tBoLA-DRA-DRB30101: Allele has too many parts: DRA-DRB30101\tBoLA-DRA-DRB30101\n",
      "INFO:mhctools.base_commandline_predictor:Skipping allele BoLA-DRA-DRB31101\tBoLA-DRA-DRB31101: Allele has too many parts: DRA-DRB31101\tBoLA-DRA-DRB31101\n",
      "INFO:mhctools.base_commandline_predictor:Skipping allele BoLA-DRA-DRB31501\tBoLA-DRA-DRB31501: Allele has too many parts: DRA-DRB31501\tBoLA-DRA-DRB31501\n"
     ]
    },
    {
     "name": "stderr",
     "output_type": "stream",
     "text": [
      "INFO:mhctools.base_commandline_predictor:Skipping allele DRB5_0108N: The suffix 'N' of 'DRB5*0108N' was not parsed\n",
      "INFO:mhctools.base_commandline_predictor:Skipping allele BoLA-DRA-DRB30101\tBoLA-DRA-DRB30101: Allele has too many parts: DRA-DRB30101\tBoLA-DRA-DRB30101\n",
      "INFO:mhctools.base_commandline_predictor:Skipping allele BoLA-DRA-DRB31101\tBoLA-DRA-DRB31101: Allele has too many parts: DRA-DRB31101\tBoLA-DRA-DRB31101\n",
      "INFO:mhctools.base_commandline_predictor:Skipping allele BoLA-DRA-DRB31501\tBoLA-DRA-DRB31501: Allele has too many parts: DRA-DRB31501\tBoLA-DRA-DRB31501\n",
      "INFO:mhctools.base_commandline_predictor:Skipping allele DRB5_0108N: The suffix 'N' of 'DRB5*0108N' was not parsed\n",
      "INFO:mhctools.base_commandline_predictor:Skipping allele BoLA-DRA-DRB30101\tBoLA-DRA-DRB30101: Allele has too many parts: DRA-DRB30101\tBoLA-DRA-DRB30101\n",
      "INFO:mhctools.base_commandline_predictor:Skipping allele BoLA-DRA-DRB31101\tBoLA-DRA-DRB31101: Allele has too many parts: DRA-DRB31101\tBoLA-DRA-DRB31101\n",
      "INFO:mhctools.base_commandline_predictor:Skipping allele BoLA-DRA-DRB31501\tBoLA-DRA-DRB31501: Allele has too many parts: DRA-DRB31501\tBoLA-DRA-DRB31501\n",
      "INFO:mhctools.base_commandline_predictor:Skipping allele DRB5_0108N: The suffix 'N' of 'DRB5*0108N' was not parsed\n",
      "INFO:mhctools.base_commandline_predictor:Skipping allele BoLA-DRA-DRB30101\tBoLA-DRA-DRB30101: Allele has too many parts: DRA-DRB30101\tBoLA-DRA-DRB30101\n",
      "INFO:mhctools.base_commandline_predictor:Skipping allele BoLA-DRA-DRB31101\tBoLA-DRA-DRB31101: Allele has too many parts: DRA-DRB31101\tBoLA-DRA-DRB31101\n",
      "INFO:mhctools.base_commandline_predictor:Skipping allele BoLA-DRA-DRB31501\tBoLA-DRA-DRB31501: Allele has too many parts: DRA-DRB31501\tBoLA-DRA-DRB31501\n",
      "INFO:mhctools.base_commandline_predictor:Skipping allele DRB5_0108N: The suffix 'N' of 'DRB5*0108N' was not parsed\n",
      "INFO:mhctools.base_commandline_predictor:Skipping allele BoLA-DRA-DRB30101\tBoLA-DRA-DRB30101: Allele has too many parts: DRA-DRB30101\tBoLA-DRA-DRB30101\n",
      "INFO:mhctools.base_commandline_predictor:Skipping allele BoLA-DRA-DRB31101\tBoLA-DRA-DRB31101: Allele has too many parts: DRA-DRB31101\tBoLA-DRA-DRB31101\n",
      "INFO:mhctools.base_commandline_predictor:Skipping allele BoLA-DRA-DRB31501\tBoLA-DRA-DRB31501: Allele has too many parts: DRA-DRB31501\tBoLA-DRA-DRB31501\n"
     ]
    }
   ],
   "source": [
    "from mhctools import NetMHCIIpan\n",
    "allele_to_predictors = {allele: NetMHCIIpan(alleles=[allele]) for allele in alleles}"
   ]
  },
  {
   "cell_type": "code",
   "execution_count": 63,
   "metadata": {},
   "outputs": [
    {
     "data": {
      "text/plain": [
       "{'HLA-DPA1*01:03/DPB1*02:01': NetMHCIIpan(alleles=['HLA-DPA1*01:03-DPB1*02:01'], default_peptide_lengths=[15, 16, 17, 18, 19, 20]),\n",
       " 'HLA-DPA1*01:03/DPB1*04:01': NetMHCIIpan(alleles=['HLA-DPA1*01:03-DPB1*04:01'], default_peptide_lengths=[15, 16, 17, 18, 19, 20]),\n",
       " 'HLA-DQA1*01:01/DQB1*05:01': NetMHCIIpan(alleles=['HLA-DQA1*01:01-DQB1*05:01'], default_peptide_lengths=[15, 16, 17, 18, 19, 20]),\n",
       " 'HLA-DQA1*01:02/DQB1*03:01': NetMHCIIpan(alleles=['HLA-DQA1*01:02-DQB1*03:01'], default_peptide_lengths=[15, 16, 17, 18, 19, 20]),\n",
       " 'HLA-DQA1*01:02/DQB1*05:01': NetMHCIIpan(alleles=['HLA-DQA1*01:02-DQB1*05:01'], default_peptide_lengths=[15, 16, 17, 18, 19, 20]),\n",
       " 'HLA-DQA1*01:02/DQB1*06:02': NetMHCIIpan(alleles=['HLA-DQA1*01:02-DQB1*06:02'], default_peptide_lengths=[15, 16, 17, 18, 19, 20]),\n",
       " 'HLA-DQA1*01:02/DQB1*06:04': NetMHCIIpan(alleles=['HLA-DQA1*01:02-DQB1*06:04'], default_peptide_lengths=[15, 16, 17, 18, 19, 20]),\n",
       " 'HLA-DQA1*02:01/DQB1*02:02': NetMHCIIpan(alleles=['HLA-DQA1*02:01-DQB1*02:02'], default_peptide_lengths=[15, 16, 17, 18, 19, 20]),\n",
       " 'HLA-DQA1*03:01/DQB1*02:01': NetMHCIIpan(alleles=['HLA-DQA1*03:01-DQB1*02:01'], default_peptide_lengths=[15, 16, 17, 18, 19, 20]),\n",
       " 'HLA-DQA1*03:01/DQB1*03:02': NetMHCIIpan(alleles=['HLA-DQA1*03:01-DQB1*03:02'], default_peptide_lengths=[15, 16, 17, 18, 19, 20]),\n",
       " 'HLA-DQA1*05:01/DQB1*02:01': NetMHCIIpan(alleles=['HLA-DQA1*05:01-DQB1*02:01'], default_peptide_lengths=[15, 16, 17, 18, 19, 20]),\n",
       " 'HLA-DQA1*05:01/DQB1*03:02': NetMHCIIpan(alleles=['HLA-DQA1*05:01-DQB1*03:02'], default_peptide_lengths=[15, 16, 17, 18, 19, 20]),\n",
       " 'HLA-DQA1*05:05/DQB1*03:01': NetMHCIIpan(alleles=['HLA-DQA1*05:05-DQB1*03:01'], default_peptide_lengths=[15, 16, 17, 18, 19, 20]),\n",
       " 'HLA-DRA1*01:01/DRB1*01:01': NetMHCIIpan(alleles=['HLA-DRA1*01:01-DRB1*01:01'], default_peptide_lengths=[15, 16, 17, 18, 19, 20]),\n",
       " 'HLA-DRA1*01:01/DRB1*01:02': NetMHCIIpan(alleles=['HLA-DRA1*01:01-DRB1*01:02'], default_peptide_lengths=[15, 16, 17, 18, 19, 20]),\n",
       " 'HLA-DRA1*01:01/DRB1*01:03': NetMHCIIpan(alleles=['HLA-DRA1*01:01-DRB1*01:03'], default_peptide_lengths=[15, 16, 17, 18, 19, 20]),\n",
       " 'HLA-DRA1*01:01/DRB1*03:01': NetMHCIIpan(alleles=['HLA-DRA1*01:01-DRB1*03:01'], default_peptide_lengths=[15, 16, 17, 18, 19, 20]),\n",
       " 'HLA-DRA1*01:01/DRB1*04:01': NetMHCIIpan(alleles=['HLA-DRA1*01:01-DRB1*04:01'], default_peptide_lengths=[15, 16, 17, 18, 19, 20]),\n",
       " 'HLA-DRA1*01:01/DRB1*04:02': NetMHCIIpan(alleles=['HLA-DRA1*01:01-DRB1*04:02'], default_peptide_lengths=[15, 16, 17, 18, 19, 20]),\n",
       " 'HLA-DRA1*01:01/DRB1*04:04': NetMHCIIpan(alleles=['HLA-DRA1*01:01-DRB1*04:04'], default_peptide_lengths=[15, 16, 17, 18, 19, 20]),\n",
       " 'HLA-DRA1*01:01/DRB1*04:05': NetMHCIIpan(alleles=['HLA-DRA1*01:01-DRB1*04:05'], default_peptide_lengths=[15, 16, 17, 18, 19, 20]),\n",
       " 'HLA-DRA1*01:01/DRB1*08:01': NetMHCIIpan(alleles=['HLA-DRA1*01:01-DRB1*08:01'], default_peptide_lengths=[15, 16, 17, 18, 19, 20]),\n",
       " 'HLA-DRA1*01:01/DRB1*09:01': NetMHCIIpan(alleles=['HLA-DRA1*01:01-DRB1*09:01'], default_peptide_lengths=[15, 16, 17, 18, 19, 20]),\n",
       " 'HLA-DRA1*01:01/DRB1*10:01': NetMHCIIpan(alleles=['HLA-DRA1*01:01-DRB1*10:01'], default_peptide_lengths=[15, 16, 17, 18, 19, 20]),\n",
       " 'HLA-DRA1*01:01/DRB1*11:01': NetMHCIIpan(alleles=['HLA-DRA1*01:01-DRB1*11:01'], default_peptide_lengths=[15, 16, 17, 18, 19, 20]),\n",
       " 'HLA-DRA1*01:01/DRB1*11:04': NetMHCIIpan(alleles=['HLA-DRA1*01:01-DRB1*11:04'], default_peptide_lengths=[15, 16, 17, 18, 19, 20]),\n",
       " 'HLA-DRA1*01:01/DRB1*13:01': NetMHCIIpan(alleles=['HLA-DRA1*01:01-DRB1*13:01'], default_peptide_lengths=[15, 16, 17, 18, 19, 20]),\n",
       " 'HLA-DRA1*01:01/DRB1*13:02': NetMHCIIpan(alleles=['HLA-DRA1*01:01-DRB1*13:02'], default_peptide_lengths=[15, 16, 17, 18, 19, 20]),\n",
       " 'HLA-DRA1*01:01/DRB1*15:01': NetMHCIIpan(alleles=['HLA-DRA1*01:01-DRB1*15:01'], default_peptide_lengths=[15, 16, 17, 18, 19, 20]),\n",
       " 'HLA-DRA1*01:01/DRB3*01:01': NetMHCIIpan(alleles=['HLA-DRA1*01:01-DRB3*01:01'], default_peptide_lengths=[15, 16, 17, 18, 19, 20]),\n",
       " 'HLA-DRA1*01:01/DRB3*02:02': NetMHCIIpan(alleles=['HLA-DRA1*01:01-DRB3*02:02'], default_peptide_lengths=[15, 16, 17, 18, 19, 20]),\n",
       " 'HLA-DRA1*01:01/DRB3*03:01': NetMHCIIpan(alleles=['HLA-DRA1*01:01-DRB3*03:01'], default_peptide_lengths=[15, 16, 17, 18, 19, 20]),\n",
       " 'HLA-DRA1*01:01/DRB5*01:01': NetMHCIIpan(alleles=['HLA-DRA1*01:01-DRB5*01:01'], default_peptide_lengths=[15, 16, 17, 18, 19, 20])}"
      ]
     },
     "execution_count": 63,
     "metadata": {},
     "output_type": "execute_result"
    }
   ],
   "source": [
    "allele_to_predictors"
   ]
  },
  {
   "cell_type": "code",
   "execution_count": 64,
   "metadata": {},
   "outputs": [
    {
     "name": "stdout",
     "output_type": "stream",
     "text": [
      "HLA-DPA1*01:03/DPB1*02:01 (n=600)\n"
     ]
    },
    {
     "name": "stderr",
     "output_type": "stream",
     "text": [
      "INFO:mhctools.process_helpers:Ran 1 commands in 10.8760 seconds\n"
     ]
    },
    {
     "name": "stdout",
     "output_type": "stream",
     "text": [
      "HLA-DPA1*01:03/DPB1*04:01 (n=200)\n"
     ]
    },
    {
     "name": "stderr",
     "output_type": "stream",
     "text": [
      "INFO:mhctools.process_helpers:Ran 1 commands in 3.8102 seconds\n"
     ]
    },
    {
     "name": "stdout",
     "output_type": "stream",
     "text": [
      "HLA-DQA1*01:01/DQB1*05:01 (n=1650)\n"
     ]
    },
    {
     "name": "stderr",
     "output_type": "stream",
     "text": [
      "INFO:mhctools.process_helpers:Ran 1 commands in 27.2423 seconds\n"
     ]
    },
    {
     "name": "stdout",
     "output_type": "stream",
     "text": [
      "HLA-DQA1*01:02/DQB1*03:01 (n=300)\n"
     ]
    },
    {
     "name": "stderr",
     "output_type": "stream",
     "text": [
      "INFO:mhctools.process_helpers:Ran 1 commands in 5.5673 seconds\n"
     ]
    },
    {
     "name": "stdout",
     "output_type": "stream",
     "text": [
      "HLA-DQA1*01:02/DQB1*05:01 (n=50)\n"
     ]
    },
    {
     "name": "stderr",
     "output_type": "stream",
     "text": [
      "INFO:mhctools.process_helpers:Ran 1 commands in 1.0403 seconds\n"
     ]
    },
    {
     "name": "stdout",
     "output_type": "stream",
     "text": [
      "HLA-DQA1*01:02/DQB1*06:02 (n=2600)\n"
     ]
    },
    {
     "name": "stderr",
     "output_type": "stream",
     "text": [
      "INFO:mhctools.process_helpers:Ran 1 commands in 44.5744 seconds\n"
     ]
    },
    {
     "name": "stdout",
     "output_type": "stream",
     "text": [
      "HLA-DQA1*01:02/DQB1*06:04 (n=50)\n"
     ]
    },
    {
     "name": "stderr",
     "output_type": "stream",
     "text": [
      "INFO:mhctools.process_helpers:Ran 1 commands in 1.5141 seconds\n"
     ]
    },
    {
     "name": "stdout",
     "output_type": "stream",
     "text": [
      "HLA-DQA1*02:01/DQB1*02:02 (n=367050)\n"
     ]
    },
    {
     "name": "stderr",
     "output_type": "stream",
     "text": [
      "INFO:mhctools.process_helpers:Ran 37 commands in 1693.9045 seconds\n"
     ]
    },
    {
     "name": "stdout",
     "output_type": "stream",
     "text": [
      "HLA-DQA1*03:01/DQB1*02:01 (n=650)\n"
     ]
    },
    {
     "name": "stderr",
     "output_type": "stream",
     "text": [
      "INFO:mhctools.process_helpers:Ran 1 commands in 17.9382 seconds\n"
     ]
    },
    {
     "name": "stdout",
     "output_type": "stream",
     "text": [
      "HLA-DQA1*03:01/DQB1*03:02 (n=950)\n"
     ]
    },
    {
     "name": "stderr",
     "output_type": "stream",
     "text": [
      "INFO:mhctools.process_helpers:Ran 1 commands in 18.8367 seconds\n"
     ]
    },
    {
     "name": "stdout",
     "output_type": "stream",
     "text": [
      "HLA-DQA1*05:01/DQB1*02:01 (n=214750)\n"
     ]
    },
    {
     "name": "stderr",
     "output_type": "stream",
     "text": [
      "INFO:mhctools.process_helpers:Ran 22 commands in 1055.2396 seconds\n"
     ]
    },
    {
     "name": "stdout",
     "output_type": "stream",
     "text": [
      "HLA-DQA1*05:01/DQB1*03:02 (n=950)\n"
     ]
    },
    {
     "name": "stderr",
     "output_type": "stream",
     "text": [
      "INFO:mhctools.process_helpers:Ran 1 commands in 17.7287 seconds\n"
     ]
    },
    {
     "name": "stdout",
     "output_type": "stream",
     "text": [
      "HLA-DQA1*05:05/DQB1*03:01 (n=371550)\n"
     ]
    },
    {
     "name": "stderr",
     "output_type": "stream",
     "text": [
      "INFO:mhctools.process_helpers:Ran 38 commands in 1930.5847 seconds\n"
     ]
    },
    {
     "name": "stdout",
     "output_type": "stream",
     "text": [
      "HLA-DRA1*01:01/DRB1*01:01 (n=178850)\n"
     ]
    },
    {
     "name": "stderr",
     "output_type": "stream",
     "text": [
      "INFO:mhctools.process_helpers:Ran 18 commands in 57753.3324 seconds\n"
     ]
    },
    {
     "name": "stdout",
     "output_type": "stream",
     "text": [
      "HLA-DRA1*01:01/DRB1*01:02 (n=300)\n"
     ]
    },
    {
     "name": "stderr",
     "output_type": "stream",
     "text": [
      "INFO:mhctools.process_helpers:Ran 1 commands in 5.2295 seconds\n"
     ]
    },
    {
     "name": "stdout",
     "output_type": "stream",
     "text": [
      "HLA-DRA1*01:01/DRB1*01:03 (n=7500)\n"
     ]
    },
    {
     "name": "stderr",
     "output_type": "stream",
     "text": [
      "INFO:mhctools.process_helpers:Ran 1 commands in 92.5820 seconds\n"
     ]
    },
    {
     "name": "stdout",
     "output_type": "stream",
     "text": [
      "HLA-DRA1*01:01/DRB1*03:01 (n=9200)\n"
     ]
    },
    {
     "name": "stderr",
     "output_type": "stream",
     "text": [
      "INFO:mhctools.process_helpers:Ran 1 commands in 104.5592 seconds\n"
     ]
    },
    {
     "name": "stdout",
     "output_type": "stream",
     "text": [
      "HLA-DRA1*01:01/DRB1*04:01 (n=59000)\n"
     ]
    },
    {
     "name": "stderr",
     "output_type": "stream",
     "text": [
      "INFO:mhctools.process_helpers:Ran 6 commands in 285.8440 seconds\n"
     ]
    },
    {
     "name": "stdout",
     "output_type": "stream",
     "text": [
      "HLA-DRA1*01:01/DRB1*04:02 (n=2000)\n"
     ]
    },
    {
     "name": "stderr",
     "output_type": "stream",
     "text": [
      "INFO:mhctools.process_helpers:Ran 1 commands in 32.1879 seconds\n"
     ]
    },
    {
     "name": "stdout",
     "output_type": "stream",
     "text": [
      "HLA-DRA1*01:01/DRB1*04:04 (n=2700)\n"
     ]
    },
    {
     "name": "stderr",
     "output_type": "stream",
     "text": [
      "INFO:mhctools.process_helpers:Ran 1 commands in 38.6597 seconds\n"
     ]
    },
    {
     "name": "stdout",
     "output_type": "stream",
     "text": [
      "HLA-DRA1*01:01/DRB1*04:05 (n=1700)\n"
     ]
    },
    {
     "name": "stderr",
     "output_type": "stream",
     "text": [
      "INFO:mhctools.process_helpers:Ran 1 commands in 25.7416 seconds\n"
     ]
    },
    {
     "name": "stdout",
     "output_type": "stream",
     "text": [
      "HLA-DRA1*01:01/DRB1*08:01 (n=24300)\n"
     ]
    },
    {
     "name": "stderr",
     "output_type": "stream",
     "text": [
      "INFO:mhctools.process_helpers:Ran 3 commands in 162.4868 seconds\n"
     ]
    },
    {
     "name": "stdout",
     "output_type": "stream",
     "text": [
      "HLA-DRA1*01:01/DRB1*09:01 (n=900)\n"
     ]
    },
    {
     "name": "stderr",
     "output_type": "stream",
     "text": [
      "INFO:mhctools.process_helpers:Ran 1 commands in 17.2663 seconds\n"
     ]
    },
    {
     "name": "stdout",
     "output_type": "stream",
     "text": [
      "HLA-DRA1*01:01/DRB1*10:01 (n=11900)\n"
     ]
    },
    {
     "name": "stderr",
     "output_type": "stream",
     "text": [
      "INFO:mhctools.process_helpers:Ran 2 commands in 111.2515 seconds\n"
     ]
    },
    {
     "name": "stdout",
     "output_type": "stream",
     "text": [
      "HLA-DRA1*01:01/DRB1*11:01 (n=5200)\n"
     ]
    },
    {
     "name": "stderr",
     "output_type": "stream",
     "text": [
      "INFO:mhctools.process_helpers:Ran 1 commands in 59.9228 seconds\n"
     ]
    },
    {
     "name": "stdout",
     "output_type": "stream",
     "text": [
      "HLA-DRA1*01:01/DRB1*11:04 (n=1200)\n"
     ]
    },
    {
     "name": "stderr",
     "output_type": "stream",
     "text": [
      "INFO:mhctools.process_helpers:Ran 1 commands in 19.2151 seconds\n"
     ]
    },
    {
     "name": "stdout",
     "output_type": "stream",
     "text": [
      "HLA-DRA1*01:01/DRB1*13:01 (n=1200)\n"
     ]
    },
    {
     "name": "stderr",
     "output_type": "stream",
     "text": [
      "INFO:mhctools.process_helpers:Ran 1 commands in 19.2551 seconds\n"
     ]
    },
    {
     "name": "stdout",
     "output_type": "stream",
     "text": [
      "HLA-DRA1*01:01/DRB1*13:02 (n=1100)\n"
     ]
    },
    {
     "name": "stderr",
     "output_type": "stream",
     "text": [
      "INFO:mhctools.process_helpers:Ran 1 commands in 18.2489 seconds\n"
     ]
    },
    {
     "name": "stdout",
     "output_type": "stream",
     "text": [
      "HLA-DRA1*01:01/DRB1*15:01 (n=32900)\n"
     ]
    },
    {
     "name": "stderr",
     "output_type": "stream",
     "text": [
      "INFO:mhctools.process_helpers:Ran 4 commands in 164.4450 seconds\n"
     ]
    },
    {
     "name": "stdout",
     "output_type": "stream",
     "text": [
      "HLA-DRA1*01:01/DRB3*01:01 (n=200)\n"
     ]
    },
    {
     "name": "stderr",
     "output_type": "stream",
     "text": [
      "INFO:mhctools.process_helpers:Ran 1 commands in 4.5036 seconds\n"
     ]
    },
    {
     "name": "stdout",
     "output_type": "stream",
     "text": [
      "HLA-DRA1*01:01/DRB3*02:02 (n=550)\n"
     ]
    },
    {
     "name": "stderr",
     "output_type": "stream",
     "text": [
      "INFO:mhctools.process_helpers:Ran 1 commands in 17.0104 seconds\n"
     ]
    },
    {
     "name": "stdout",
     "output_type": "stream",
     "text": [
      "HLA-DRA1*01:01/DRB3*03:01 (n=150)\n"
     ]
    },
    {
     "name": "stderr",
     "output_type": "stream",
     "text": [
      "INFO:mhctools.process_helpers:Ran 1 commands in 3.4837 seconds\n"
     ]
    },
    {
     "name": "stdout",
     "output_type": "stream",
     "text": [
      "HLA-DRA1*01:01/DRB5*01:01 (n=10300)\n"
     ]
    },
    {
     "name": "stderr",
     "output_type": "stream",
     "text": [
      "INFO:mhctools.process_helpers:Ran 2 commands in 136.9722 seconds\n"
     ]
    }
   ],
   "source": [
    "netmhciipan_predictions = {}\n",
    "\n",
    "for (allele, df_allele) in df_decoys.groupby(\"allele\"):\n",
    "    peptides = list(df_allele.peptide)\n",
    "    print(\"%s (n=%d)\" % (allele, len(df_allele)))\n",
    "    pred = allele_to_predictors[allele].predict_peptides(peptides)\n",
    "    netmhciipan_predictions[allele] = pred"
   ]
  },
  {
   "cell_type": "code",
   "execution_count": null,
   "metadata": {},
   "outputs": [],
   "source": [
    "# filter out any sequences contained by hits or which contain hits\n",
    "allele_to_hit_peptides = {}\n",
    "for allele, hits_df in hits.groupby(\"inferred_allele\"):\n",
    "    allele_to_hit_peptides[allele] = set(hits_df.peptide)\n",
    "mask = np.ones(len(df_decoys), dtype=bool)\n",
    "for i, (allele, peptide) in enumerate(zip(df_decoys.allele, df_decoys.peptide)):\n",
    "    if i % 1000 == 0:\n",
    "        print(\"%d/%d\" % (i + 1, len(df_decoys)))\n",
    "    mask[i] = not any([hit_p in peptide for hit_p in allele_to_hit_peptides[allele]])\n",
    "n_dropped = (~mask).sum()\n",
    "print(\"Dropping %d (%f%%) rows due to overlap with hits\" % (n_dropped, 100.0 * n_dropped / len(df_decoys)))\n",
    "df_decoys = df_decoys[mask]"
   ]
  },
  {
   "cell_type": "code",
   "execution_count": 107,
   "metadata": {},
   "outputs": [],
   "source": [
    "pmhc_to_aff = {}\n",
    "pmhc_to_pr = {}"
   ]
  },
  {
   "cell_type": "code",
   "execution_count": 108,
   "metadata": {},
   "outputs": [],
   "source": [
    "for (allele, preds) in netmhciipan_predictions.items():\n",
    "    for pred in preds:\n",
    "        pmhc_to_aff[(allele, pred.peptide)] = pred.affinity\n",
    "        pmhc_to_pr[(allele, pred.peptide)] = pred.percentile_rank"
   ]
  },
  {
   "cell_type": "code",
   "execution_count": null,
   "metadata": {},
   "outputs": [],
   "source": []
  },
  {
   "cell_type": "code",
   "execution_count": 68,
   "metadata": {},
   "outputs": [],
   "source": [
    "affinities_list_in_same_order_as_df = []\n",
    "percentile_ranks_list_in_same_order_as_df = []\n",
    "\n",
    "for allele, peptide in zip(df_decoys.allele, df_decoys.peptide):\n",
    "    affinities_list_in_same_order_as_df.append(pmhc_to_aff[(allele, peptide)])\n",
    "    percentile_ranks_list_in_same_order_as_df.append(pmhc_to_pr\n",
    "df_decoys[\"netmhciipan32_affinity\"] = affinities_list_in_same_order_as_df"
   ]
  },
  {
   "cell_type": "code",
   "execution_count": 83,
   "metadata": {},
   "outputs": [],
   "source": [
    "\n"
   ]
  },
  {
   "cell_type": "code",
   "execution_count": 84,
   "metadata": {},
   "outputs": [],
   "source": []
  },
  {
   "cell_type": "code",
   "execution_count": 89,
   "metadata": {},
   "outputs": [
    {
     "name": "stdout",
     "output_type": "stream",
     "text": [
      "1/1312500\n",
      "1001/1312500\n",
      "2001/1312500\n",
      "3001/1312500\n",
      "4001/1312500\n",
      "5001/1312500\n",
      "6001/1312500\n",
      "7001/1312500\n",
      "8001/1312500\n",
      "9001/1312500\n",
      "10001/1312500\n",
      "11001/1312500\n",
      "12001/1312500\n",
      "13001/1312500\n",
      "14001/1312500\n",
      "15001/1312500\n",
      "16001/1312500\n",
      "17001/1312500\n",
      "18001/1312500\n",
      "19001/1312500\n",
      "20001/1312500\n",
      "21001/1312500\n",
      "22001/1312500\n",
      "23001/1312500\n",
      "24001/1312500\n",
      "25001/1312500\n",
      "26001/1312500\n",
      "27001/1312500\n",
      "28001/1312500\n",
      "29001/1312500\n",
      "30001/1312500\n",
      "31001/1312500\n",
      "32001/1312500\n",
      "33001/1312500\n",
      "34001/1312500\n",
      "35001/1312500\n",
      "36001/1312500\n",
      "37001/1312500\n",
      "38001/1312500\n",
      "39001/1312500\n",
      "40001/1312500\n",
      "41001/1312500\n",
      "42001/1312500\n",
      "43001/1312500\n",
      "44001/1312500\n",
      "45001/1312500\n",
      "46001/1312500\n",
      "47001/1312500\n",
      "48001/1312500\n",
      "49001/1312500\n",
      "50001/1312500\n",
      "51001/1312500\n",
      "52001/1312500\n",
      "53001/1312500\n",
      "54001/1312500\n",
      "55001/1312500\n",
      "56001/1312500\n",
      "57001/1312500\n",
      "58001/1312500\n",
      "59001/1312500\n",
      "60001/1312500\n",
      "61001/1312500\n",
      "62001/1312500\n",
      "63001/1312500\n",
      "64001/1312500\n",
      "65001/1312500\n",
      "66001/1312500\n",
      "67001/1312500\n",
      "68001/1312500\n",
      "69001/1312500\n",
      "70001/1312500\n",
      "71001/1312500\n",
      "72001/1312500\n",
      "73001/1312500\n",
      "74001/1312500\n",
      "75001/1312500\n",
      "76001/1312500\n",
      "77001/1312500\n",
      "78001/1312500\n",
      "79001/1312500\n",
      "80001/1312500\n",
      "81001/1312500\n",
      "82001/1312500\n",
      "83001/1312500\n",
      "84001/1312500\n",
      "85001/1312500\n",
      "86001/1312500\n",
      "87001/1312500\n",
      "88001/1312500\n",
      "89001/1312500\n",
      "90001/1312500\n",
      "91001/1312500\n",
      "92001/1312500\n",
      "93001/1312500\n",
      "94001/1312500\n",
      "95001/1312500\n",
      "96001/1312500\n",
      "97001/1312500\n",
      "98001/1312500\n",
      "99001/1312500\n",
      "100001/1312500\n",
      "101001/1312500\n",
      "102001/1312500\n",
      "103001/1312500\n",
      "104001/1312500\n",
      "105001/1312500\n",
      "106001/1312500\n",
      "107001/1312500\n",
      "108001/1312500\n",
      "109001/1312500\n",
      "110001/1312500\n",
      "111001/1312500\n",
      "112001/1312500\n",
      "113001/1312500\n",
      "114001/1312500\n",
      "115001/1312500\n",
      "116001/1312500\n",
      "117001/1312500\n",
      "118001/1312500\n",
      "119001/1312500\n",
      "120001/1312500\n",
      "121001/1312500\n",
      "122001/1312500\n",
      "123001/1312500\n",
      "124001/1312500\n",
      "125001/1312500\n",
      "126001/1312500\n",
      "127001/1312500\n",
      "128001/1312500\n",
      "129001/1312500\n",
      "130001/1312500\n",
      "131001/1312500\n",
      "132001/1312500\n",
      "133001/1312500\n",
      "134001/1312500\n",
      "135001/1312500\n",
      "136001/1312500\n",
      "137001/1312500\n",
      "138001/1312500\n",
      "139001/1312500\n",
      "140001/1312500\n",
      "141001/1312500\n",
      "142001/1312500\n",
      "143001/1312500\n",
      "144001/1312500\n",
      "145001/1312500\n",
      "146001/1312500\n",
      "147001/1312500\n",
      "148001/1312500\n",
      "149001/1312500\n",
      "150001/1312500\n",
      "151001/1312500\n",
      "152001/1312500\n",
      "153001/1312500\n",
      "154001/1312500\n",
      "155001/1312500\n",
      "156001/1312500\n",
      "157001/1312500\n",
      "158001/1312500\n",
      "159001/1312500\n",
      "160001/1312500\n",
      "161001/1312500\n",
      "162001/1312500\n",
      "163001/1312500\n",
      "164001/1312500\n",
      "165001/1312500\n",
      "166001/1312500\n",
      "167001/1312500\n",
      "168001/1312500\n",
      "169001/1312500\n",
      "170001/1312500\n",
      "171001/1312500\n",
      "172001/1312500\n",
      "173001/1312500\n",
      "174001/1312500\n",
      "175001/1312500\n",
      "176001/1312500\n",
      "177001/1312500\n",
      "178001/1312500\n",
      "179001/1312500\n",
      "180001/1312500\n",
      "181001/1312500\n",
      "182001/1312500\n",
      "183001/1312500\n",
      "184001/1312500\n",
      "185001/1312500\n",
      "186001/1312500\n",
      "187001/1312500\n",
      "188001/1312500\n",
      "189001/1312500\n",
      "190001/1312500\n",
      "191001/1312500\n",
      "192001/1312500\n",
      "193001/1312500\n",
      "194001/1312500\n",
      "195001/1312500\n",
      "196001/1312500\n",
      "197001/1312500\n",
      "198001/1312500\n",
      "199001/1312500\n",
      "200001/1312500\n",
      "201001/1312500\n",
      "202001/1312500\n",
      "203001/1312500\n",
      "204001/1312500\n",
      "205001/1312500\n",
      "206001/1312500\n",
      "207001/1312500\n",
      "208001/1312500\n",
      "209001/1312500\n",
      "210001/1312500\n",
      "211001/1312500\n",
      "212001/1312500\n",
      "213001/1312500\n",
      "214001/1312500\n",
      "215001/1312500\n",
      "216001/1312500\n",
      "217001/1312500\n",
      "218001/1312500\n",
      "219001/1312500\n",
      "220001/1312500\n",
      "221001/1312500\n",
      "222001/1312500\n",
      "223001/1312500\n",
      "224001/1312500\n",
      "225001/1312500\n",
      "226001/1312500\n",
      "227001/1312500\n",
      "228001/1312500\n",
      "229001/1312500\n",
      "230001/1312500\n",
      "231001/1312500\n",
      "232001/1312500\n",
      "233001/1312500\n",
      "234001/1312500\n",
      "235001/1312500\n",
      "236001/1312500\n",
      "237001/1312500\n",
      "238001/1312500\n",
      "239001/1312500\n",
      "240001/1312500\n",
      "241001/1312500\n",
      "242001/1312500\n",
      "243001/1312500\n",
      "244001/1312500\n",
      "245001/1312500\n",
      "246001/1312500\n",
      "247001/1312500\n",
      "248001/1312500\n",
      "249001/1312500\n",
      "250001/1312500\n",
      "251001/1312500\n",
      "252001/1312500\n",
      "253001/1312500\n",
      "254001/1312500\n",
      "255001/1312500\n",
      "256001/1312500\n",
      "257001/1312500\n",
      "258001/1312500\n",
      "259001/1312500\n",
      "260001/1312500\n",
      "261001/1312500\n",
      "262001/1312500\n",
      "263001/1312500\n",
      "264001/1312500\n",
      "265001/1312500\n",
      "266001/1312500\n",
      "267001/1312500\n",
      "268001/1312500\n",
      "269001/1312500\n",
      "270001/1312500\n",
      "271001/1312500\n",
      "272001/1312500\n",
      "273001/1312500\n",
      "274001/1312500\n",
      "275001/1312500\n",
      "276001/1312500\n",
      "277001/1312500\n",
      "278001/1312500\n",
      "279001/1312500\n",
      "280001/1312500\n",
      "281001/1312500\n",
      "282001/1312500\n",
      "283001/1312500\n",
      "284001/1312500\n",
      "285001/1312500\n",
      "286001/1312500\n",
      "287001/1312500\n",
      "288001/1312500\n",
      "289001/1312500\n",
      "290001/1312500\n",
      "291001/1312500\n",
      "292001/1312500\n",
      "293001/1312500\n",
      "294001/1312500\n",
      "295001/1312500\n",
      "296001/1312500\n",
      "297001/1312500\n",
      "298001/1312500\n",
      "299001/1312500\n",
      "300001/1312500\n",
      "301001/1312500\n",
      "302001/1312500\n",
      "303001/1312500\n",
      "304001/1312500\n",
      "305001/1312500\n",
      "306001/1312500\n",
      "307001/1312500\n",
      "308001/1312500\n",
      "309001/1312500\n",
      "310001/1312500\n",
      "311001/1312500\n",
      "312001/1312500\n",
      "313001/1312500\n",
      "314001/1312500\n",
      "315001/1312500\n",
      "316001/1312500\n",
      "317001/1312500\n",
      "318001/1312500\n",
      "319001/1312500\n",
      "320001/1312500\n",
      "321001/1312500\n",
      "322001/1312500\n",
      "323001/1312500\n",
      "324001/1312500\n",
      "325001/1312500\n",
      "326001/1312500\n",
      "327001/1312500\n",
      "328001/1312500\n",
      "329001/1312500\n",
      "330001/1312500\n",
      "331001/1312500\n",
      "332001/1312500\n",
      "333001/1312500\n",
      "334001/1312500\n",
      "335001/1312500\n",
      "336001/1312500\n",
      "337001/1312500\n",
      "338001/1312500\n",
      "339001/1312500\n",
      "340001/1312500\n",
      "341001/1312500\n",
      "342001/1312500\n",
      "343001/1312500\n",
      "344001/1312500\n",
      "345001/1312500\n",
      "346001/1312500\n",
      "347001/1312500\n",
      "348001/1312500\n",
      "349001/1312500\n",
      "350001/1312500\n",
      "351001/1312500\n",
      "352001/1312500\n",
      "353001/1312500\n",
      "354001/1312500\n",
      "355001/1312500\n",
      "356001/1312500\n",
      "357001/1312500\n",
      "358001/1312500\n",
      "359001/1312500\n",
      "360001/1312500\n",
      "361001/1312500\n",
      "362001/1312500\n",
      "363001/1312500\n",
      "364001/1312500\n",
      "365001/1312500\n",
      "366001/1312500\n",
      "367001/1312500\n",
      "368001/1312500\n",
      "369001/1312500\n",
      "370001/1312500\n",
      "371001/1312500\n",
      "372001/1312500\n",
      "373001/1312500\n",
      "374001/1312500\n",
      "375001/1312500\n",
      "376001/1312500\n",
      "377001/1312500\n",
      "378001/1312500\n",
      "379001/1312500\n",
      "380001/1312500\n",
      "381001/1312500\n",
      "382001/1312500\n",
      "383001/1312500\n",
      "384001/1312500\n",
      "385001/1312500\n",
      "386001/1312500\n",
      "387001/1312500\n",
      "388001/1312500\n",
      "389001/1312500\n",
      "390001/1312500\n",
      "391001/1312500\n",
      "392001/1312500\n",
      "393001/1312500\n",
      "394001/1312500\n",
      "395001/1312500\n",
      "396001/1312500\n",
      "397001/1312500\n",
      "398001/1312500\n",
      "399001/1312500\n",
      "400001/1312500\n",
      "401001/1312500\n",
      "402001/1312500\n",
      "403001/1312500\n",
      "404001/1312500\n",
      "405001/1312500\n",
      "406001/1312500\n",
      "407001/1312500\n",
      "408001/1312500\n",
      "409001/1312500\n",
      "410001/1312500\n",
      "411001/1312500\n",
      "412001/1312500\n",
      "413001/1312500\n",
      "414001/1312500\n",
      "415001/1312500\n",
      "416001/1312500\n",
      "417001/1312500\n",
      "418001/1312500\n",
      "419001/1312500\n",
      "420001/1312500\n",
      "421001/1312500\n",
      "422001/1312500\n",
      "423001/1312500\n",
      "424001/1312500\n",
      "425001/1312500\n",
      "426001/1312500\n",
      "427001/1312500\n",
      "428001/1312500\n",
      "429001/1312500\n",
      "430001/1312500\n",
      "431001/1312500\n",
      "432001/1312500\n",
      "433001/1312500\n",
      "434001/1312500\n",
      "435001/1312500\n",
      "436001/1312500\n",
      "437001/1312500\n",
      "438001/1312500\n",
      "439001/1312500\n",
      "440001/1312500\n",
      "441001/1312500\n",
      "442001/1312500\n",
      "443001/1312500\n",
      "444001/1312500\n",
      "445001/1312500\n",
      "446001/1312500\n",
      "447001/1312500\n",
      "448001/1312500\n",
      "449001/1312500\n",
      "450001/1312500\n",
      "451001/1312500\n",
      "452001/1312500\n",
      "453001/1312500\n",
      "454001/1312500\n",
      "455001/1312500\n",
      "456001/1312500\n",
      "457001/1312500\n",
      "458001/1312500\n",
      "459001/1312500\n",
      "460001/1312500\n",
      "461001/1312500\n",
      "462001/1312500\n",
      "463001/1312500\n",
      "464001/1312500\n",
      "465001/1312500\n",
      "466001/1312500\n",
      "467001/1312500\n",
      "468001/1312500\n",
      "469001/1312500\n",
      "470001/1312500\n",
      "471001/1312500\n",
      "472001/1312500\n",
      "473001/1312500\n",
      "474001/1312500\n",
      "475001/1312500\n",
      "476001/1312500\n",
      "477001/1312500\n",
      "478001/1312500\n",
      "479001/1312500\n",
      "480001/1312500\n",
      "481001/1312500\n",
      "482001/1312500\n",
      "483001/1312500\n",
      "484001/1312500\n",
      "485001/1312500\n",
      "486001/1312500\n",
      "487001/1312500\n",
      "488001/1312500\n",
      "489001/1312500\n",
      "490001/1312500\n",
      "491001/1312500\n",
      "492001/1312500\n",
      "493001/1312500\n",
      "494001/1312500\n",
      "495001/1312500\n",
      "496001/1312500\n",
      "497001/1312500\n",
      "498001/1312500\n",
      "499001/1312500\n",
      "500001/1312500\n",
      "501001/1312500\n",
      "502001/1312500\n",
      "503001/1312500\n",
      "504001/1312500\n",
      "505001/1312500\n",
      "506001/1312500\n",
      "507001/1312500\n",
      "508001/1312500\n",
      "509001/1312500\n",
      "510001/1312500\n",
      "511001/1312500\n",
      "512001/1312500\n",
      "513001/1312500\n",
      "514001/1312500\n",
      "515001/1312500\n",
      "516001/1312500\n",
      "517001/1312500\n",
      "518001/1312500\n",
      "519001/1312500\n",
      "520001/1312500\n",
      "521001/1312500\n",
      "522001/1312500\n",
      "523001/1312500\n",
      "524001/1312500\n",
      "525001/1312500\n",
      "526001/1312500\n",
      "527001/1312500\n",
      "528001/1312500\n",
      "529001/1312500\n",
      "530001/1312500\n",
      "531001/1312500\n",
      "532001/1312500\n",
      "533001/1312500\n",
      "534001/1312500\n",
      "535001/1312500\n",
      "536001/1312500\n",
      "537001/1312500\n",
      "538001/1312500\n",
      "539001/1312500\n",
      "540001/1312500\n",
      "541001/1312500\n",
      "542001/1312500\n",
      "543001/1312500\n",
      "544001/1312500\n",
      "545001/1312500\n",
      "546001/1312500\n",
      "547001/1312500\n",
      "548001/1312500\n",
      "549001/1312500\n",
      "550001/1312500\n",
      "551001/1312500\n",
      "552001/1312500\n",
      "553001/1312500\n"
     ]
    },
    {
     "name": "stdout",
     "output_type": "stream",
     "text": [
      "554001/1312500\n",
      "555001/1312500\n",
      "556001/1312500\n",
      "557001/1312500\n",
      "558001/1312500\n",
      "559001/1312500\n",
      "560001/1312500\n",
      "561001/1312500\n",
      "562001/1312500\n",
      "563001/1312500\n",
      "564001/1312500\n",
      "565001/1312500\n",
      "566001/1312500\n",
      "567001/1312500\n",
      "568001/1312500\n",
      "569001/1312500\n",
      "570001/1312500\n",
      "571001/1312500\n",
      "572001/1312500\n",
      "573001/1312500\n",
      "574001/1312500\n",
      "575001/1312500\n",
      "576001/1312500\n",
      "577001/1312500\n",
      "578001/1312500\n",
      "579001/1312500\n",
      "580001/1312500\n",
      "581001/1312500\n",
      "582001/1312500\n",
      "583001/1312500\n",
      "584001/1312500\n",
      "585001/1312500\n",
      "586001/1312500\n",
      "587001/1312500\n",
      "588001/1312500\n",
      "589001/1312500\n",
      "590001/1312500\n",
      "591001/1312500\n",
      "592001/1312500\n",
      "593001/1312500\n",
      "594001/1312500\n",
      "595001/1312500\n",
      "596001/1312500\n",
      "597001/1312500\n",
      "598001/1312500\n",
      "599001/1312500\n",
      "600001/1312500\n",
      "601001/1312500\n",
      "602001/1312500\n",
      "603001/1312500\n",
      "604001/1312500\n",
      "605001/1312500\n",
      "606001/1312500\n",
      "607001/1312500\n",
      "608001/1312500\n",
      "609001/1312500\n",
      "610001/1312500\n",
      "611001/1312500\n",
      "612001/1312500\n",
      "613001/1312500\n",
      "614001/1312500\n",
      "615001/1312500\n",
      "616001/1312500\n",
      "617001/1312500\n",
      "618001/1312500\n",
      "619001/1312500\n",
      "620001/1312500\n",
      "621001/1312500\n",
      "622001/1312500\n",
      "623001/1312500\n",
      "624001/1312500\n",
      "625001/1312500\n",
      "626001/1312500\n",
      "627001/1312500\n",
      "628001/1312500\n",
      "629001/1312500\n",
      "630001/1312500\n",
      "631001/1312500\n",
      "632001/1312500\n",
      "633001/1312500\n",
      "634001/1312500\n",
      "635001/1312500\n",
      "636001/1312500\n",
      "637001/1312500\n",
      "638001/1312500\n",
      "639001/1312500\n",
      "640001/1312500\n",
      "641001/1312500\n",
      "642001/1312500\n",
      "643001/1312500\n",
      "644001/1312500\n",
      "645001/1312500\n",
      "646001/1312500\n",
      "647001/1312500\n",
      "648001/1312500\n",
      "649001/1312500\n",
      "650001/1312500\n",
      "651001/1312500\n",
      "652001/1312500\n",
      "653001/1312500\n",
      "654001/1312500\n",
      "655001/1312500\n",
      "656001/1312500\n",
      "657001/1312500\n",
      "658001/1312500\n",
      "659001/1312500\n",
      "660001/1312500\n",
      "661001/1312500\n",
      "662001/1312500\n",
      "663001/1312500\n",
      "664001/1312500\n",
      "665001/1312500\n",
      "666001/1312500\n",
      "667001/1312500\n",
      "668001/1312500\n",
      "669001/1312500\n",
      "670001/1312500\n",
      "671001/1312500\n",
      "672001/1312500\n",
      "673001/1312500\n",
      "674001/1312500\n",
      "675001/1312500\n",
      "676001/1312500\n",
      "677001/1312500\n",
      "678001/1312500\n",
      "679001/1312500\n",
      "680001/1312500\n",
      "681001/1312500\n",
      "682001/1312500\n",
      "683001/1312500\n",
      "684001/1312500\n",
      "685001/1312500\n",
      "686001/1312500\n",
      "687001/1312500\n",
      "688001/1312500\n",
      "689001/1312500\n",
      "690001/1312500\n",
      "691001/1312500\n",
      "692001/1312500\n",
      "693001/1312500\n",
      "694001/1312500\n",
      "695001/1312500\n",
      "696001/1312500\n",
      "697001/1312500\n",
      "698001/1312500\n",
      "699001/1312500\n",
      "700001/1312500\n",
      "701001/1312500\n",
      "702001/1312500\n",
      "703001/1312500\n",
      "704001/1312500\n",
      "705001/1312500\n",
      "706001/1312500\n",
      "707001/1312500\n",
      "708001/1312500\n",
      "709001/1312500\n",
      "710001/1312500\n",
      "711001/1312500\n",
      "712001/1312500\n",
      "713001/1312500\n",
      "714001/1312500\n",
      "715001/1312500\n",
      "716001/1312500\n",
      "717001/1312500\n",
      "718001/1312500\n",
      "719001/1312500\n",
      "720001/1312500\n",
      "721001/1312500\n",
      "722001/1312500\n",
      "723001/1312500\n",
      "724001/1312500\n",
      "725001/1312500\n",
      "726001/1312500\n",
      "727001/1312500\n",
      "728001/1312500\n",
      "729001/1312500\n",
      "730001/1312500\n",
      "731001/1312500\n",
      "732001/1312500\n",
      "733001/1312500\n",
      "734001/1312500\n",
      "735001/1312500\n",
      "736001/1312500\n",
      "737001/1312500\n",
      "738001/1312500\n",
      "739001/1312500\n",
      "740001/1312500\n",
      "741001/1312500\n",
      "742001/1312500\n",
      "743001/1312500\n",
      "744001/1312500\n",
      "745001/1312500\n",
      "746001/1312500\n",
      "747001/1312500\n",
      "748001/1312500\n",
      "749001/1312500\n",
      "750001/1312500\n",
      "751001/1312500\n",
      "752001/1312500\n",
      "753001/1312500\n",
      "754001/1312500\n",
      "755001/1312500\n",
      "756001/1312500\n",
      "757001/1312500\n",
      "758001/1312500\n",
      "759001/1312500\n",
      "760001/1312500\n",
      "761001/1312500\n",
      "762001/1312500\n",
      "763001/1312500\n",
      "764001/1312500\n",
      "765001/1312500\n",
      "766001/1312500\n",
      "767001/1312500\n",
      "768001/1312500\n",
      "769001/1312500\n",
      "770001/1312500\n",
      "771001/1312500\n",
      "772001/1312500\n",
      "773001/1312500\n",
      "774001/1312500\n",
      "775001/1312500\n",
      "776001/1312500\n",
      "777001/1312500\n",
      "778001/1312500\n",
      "779001/1312500\n",
      "780001/1312500\n",
      "781001/1312500\n",
      "782001/1312500\n",
      "783001/1312500\n",
      "784001/1312500\n",
      "785001/1312500\n",
      "786001/1312500\n",
      "787001/1312500\n",
      "788001/1312500\n",
      "789001/1312500\n",
      "790001/1312500\n",
      "791001/1312500\n",
      "792001/1312500\n",
      "793001/1312500\n",
      "794001/1312500\n",
      "795001/1312500\n",
      "796001/1312500\n",
      "797001/1312500\n",
      "798001/1312500\n",
      "799001/1312500\n",
      "800001/1312500\n",
      "801001/1312500\n",
      "802001/1312500\n",
      "803001/1312500\n",
      "804001/1312500\n",
      "805001/1312500\n",
      "806001/1312500\n",
      "807001/1312500\n",
      "808001/1312500\n",
      "809001/1312500\n",
      "810001/1312500\n",
      "811001/1312500\n",
      "812001/1312500\n",
      "813001/1312500\n",
      "814001/1312500\n",
      "815001/1312500\n",
      "816001/1312500\n",
      "817001/1312500\n",
      "818001/1312500\n",
      "819001/1312500\n",
      "820001/1312500\n",
      "821001/1312500\n",
      "822001/1312500\n",
      "823001/1312500\n",
      "824001/1312500\n",
      "825001/1312500\n",
      "826001/1312500\n",
      "827001/1312500\n",
      "828001/1312500\n",
      "829001/1312500\n",
      "830001/1312500\n",
      "831001/1312500\n",
      "832001/1312500\n",
      "833001/1312500\n",
      "834001/1312500\n",
      "835001/1312500\n",
      "836001/1312500\n",
      "837001/1312500\n",
      "838001/1312500\n",
      "839001/1312500\n",
      "840001/1312500\n",
      "841001/1312500\n",
      "842001/1312500\n",
      "843001/1312500\n",
      "844001/1312500\n",
      "845001/1312500\n",
      "846001/1312500\n",
      "847001/1312500\n",
      "848001/1312500\n",
      "849001/1312500\n",
      "850001/1312500\n",
      "851001/1312500\n",
      "852001/1312500\n",
      "853001/1312500\n",
      "854001/1312500\n",
      "855001/1312500\n",
      "856001/1312500\n",
      "857001/1312500\n",
      "858001/1312500\n",
      "859001/1312500\n",
      "860001/1312500\n",
      "861001/1312500\n",
      "862001/1312500\n",
      "863001/1312500\n",
      "864001/1312500\n",
      "865001/1312500\n",
      "866001/1312500\n",
      "867001/1312500\n",
      "868001/1312500\n",
      "869001/1312500\n",
      "870001/1312500\n",
      "871001/1312500\n",
      "872001/1312500\n",
      "873001/1312500\n",
      "874001/1312500\n",
      "875001/1312500\n",
      "876001/1312500\n",
      "877001/1312500\n",
      "878001/1312500\n",
      "879001/1312500\n",
      "880001/1312500\n",
      "881001/1312500\n",
      "882001/1312500\n",
      "883001/1312500\n",
      "884001/1312500\n",
      "885001/1312500\n",
      "886001/1312500\n",
      "887001/1312500\n",
      "888001/1312500\n",
      "889001/1312500\n",
      "890001/1312500\n",
      "891001/1312500\n",
      "892001/1312500\n",
      "893001/1312500\n",
      "894001/1312500\n",
      "895001/1312500\n",
      "896001/1312500\n",
      "897001/1312500\n",
      "898001/1312500\n",
      "899001/1312500\n",
      "900001/1312500\n",
      "901001/1312500\n",
      "902001/1312500\n",
      "903001/1312500\n",
      "904001/1312500\n",
      "905001/1312500\n",
      "906001/1312500\n",
      "907001/1312500\n",
      "908001/1312500\n",
      "909001/1312500\n",
      "910001/1312500\n",
      "911001/1312500\n",
      "912001/1312500\n",
      "913001/1312500\n",
      "914001/1312500\n",
      "915001/1312500\n",
      "916001/1312500\n",
      "917001/1312500\n",
      "918001/1312500\n",
      "919001/1312500\n",
      "920001/1312500\n",
      "921001/1312500\n",
      "922001/1312500\n",
      "923001/1312500\n",
      "924001/1312500\n",
      "925001/1312500\n",
      "926001/1312500\n",
      "927001/1312500\n",
      "928001/1312500\n",
      "929001/1312500\n",
      "930001/1312500\n",
      "931001/1312500\n",
      "932001/1312500\n",
      "933001/1312500\n",
      "934001/1312500\n",
      "935001/1312500\n",
      "936001/1312500\n",
      "937001/1312500\n",
      "938001/1312500\n",
      "939001/1312500\n",
      "940001/1312500\n",
      "941001/1312500\n",
      "942001/1312500\n",
      "943001/1312500\n",
      "944001/1312500\n",
      "945001/1312500\n",
      "946001/1312500\n",
      "947001/1312500\n",
      "948001/1312500\n",
      "949001/1312500\n",
      "950001/1312500\n",
      "951001/1312500\n",
      "952001/1312500\n",
      "953001/1312500\n",
      "954001/1312500\n",
      "955001/1312500\n",
      "956001/1312500\n",
      "957001/1312500\n",
      "958001/1312500\n",
      "959001/1312500\n",
      "960001/1312500\n",
      "961001/1312500\n",
      "962001/1312500\n",
      "963001/1312500\n",
      "964001/1312500\n",
      "965001/1312500\n",
      "966001/1312500\n",
      "967001/1312500\n",
      "968001/1312500\n",
      "969001/1312500\n",
      "970001/1312500\n",
      "971001/1312500\n",
      "972001/1312500\n",
      "973001/1312500\n",
      "974001/1312500\n",
      "975001/1312500\n",
      "976001/1312500\n",
      "977001/1312500\n",
      "978001/1312500\n",
      "979001/1312500\n",
      "980001/1312500\n",
      "981001/1312500\n",
      "982001/1312500\n",
      "983001/1312500\n",
      "984001/1312500\n",
      "985001/1312500\n",
      "986001/1312500\n",
      "987001/1312500\n",
      "988001/1312500\n",
      "989001/1312500\n",
      "990001/1312500\n",
      "991001/1312500\n",
      "992001/1312500\n",
      "993001/1312500\n",
      "994001/1312500\n",
      "995001/1312500\n",
      "996001/1312500\n",
      "997001/1312500\n",
      "998001/1312500\n",
      "999001/1312500\n",
      "1000001/1312500\n",
      "1001001/1312500\n",
      "1002001/1312500\n",
      "1003001/1312500\n",
      "1004001/1312500\n",
      "1005001/1312500\n",
      "1006001/1312500\n",
      "1007001/1312500\n",
      "1008001/1312500\n",
      "1009001/1312500\n",
      "1010001/1312500\n",
      "1011001/1312500\n",
      "1012001/1312500\n",
      "1013001/1312500\n",
      "1014001/1312500\n",
      "1015001/1312500\n",
      "1016001/1312500\n",
      "1017001/1312500\n",
      "1018001/1312500\n",
      "1019001/1312500\n",
      "1020001/1312500\n",
      "1021001/1312500\n",
      "1022001/1312500\n",
      "1023001/1312500\n",
      "1024001/1312500\n",
      "1025001/1312500\n",
      "1026001/1312500\n",
      "1027001/1312500\n",
      "1028001/1312500\n",
      "1029001/1312500\n",
      "1030001/1312500\n",
      "1031001/1312500\n",
      "1032001/1312500\n",
      "1033001/1312500\n",
      "1034001/1312500\n",
      "1035001/1312500\n",
      "1036001/1312500\n",
      "1037001/1312500\n",
      "1038001/1312500\n",
      "1039001/1312500\n",
      "1040001/1312500\n",
      "1041001/1312500\n",
      "1042001/1312500\n",
      "1043001/1312500\n",
      "1044001/1312500\n",
      "1045001/1312500\n",
      "1046001/1312500\n",
      "1047001/1312500\n",
      "1048001/1312500\n",
      "1049001/1312500\n",
      "1050001/1312500\n",
      "1051001/1312500\n",
      "1052001/1312500\n",
      "1053001/1312500\n",
      "1054001/1312500\n",
      "1055001/1312500\n",
      "1056001/1312500\n",
      "1057001/1312500\n",
      "1058001/1312500\n",
      "1059001/1312500\n",
      "1060001/1312500\n",
      "1061001/1312500\n",
      "1062001/1312500\n",
      "1063001/1312500\n",
      "1064001/1312500\n",
      "1065001/1312500\n",
      "1066001/1312500\n",
      "1067001/1312500\n",
      "1068001/1312500\n",
      "1069001/1312500\n",
      "1070001/1312500\n",
      "1071001/1312500\n",
      "1072001/1312500\n",
      "1073001/1312500\n",
      "1074001/1312500\n",
      "1075001/1312500\n",
      "1076001/1312500\n",
      "1077001/1312500\n",
      "1078001/1312500\n",
      "1079001/1312500\n",
      "1080001/1312500\n",
      "1081001/1312500\n",
      "1082001/1312500\n",
      "1083001/1312500\n",
      "1084001/1312500\n",
      "1085001/1312500\n",
      "1086001/1312500\n",
      "1087001/1312500\n",
      "1088001/1312500\n",
      "1089001/1312500\n",
      "1090001/1312500\n",
      "1091001/1312500\n",
      "1092001/1312500\n",
      "1093001/1312500\n"
     ]
    },
    {
     "name": "stdout",
     "output_type": "stream",
     "text": [
      "1094001/1312500\n",
      "1095001/1312500\n",
      "1096001/1312500\n",
      "1097001/1312500\n",
      "1098001/1312500\n",
      "1099001/1312500\n",
      "1100001/1312500\n",
      "1101001/1312500\n",
      "1102001/1312500\n",
      "1103001/1312500\n",
      "1104001/1312500\n",
      "1105001/1312500\n",
      "1106001/1312500\n",
      "1107001/1312500\n",
      "1108001/1312500\n",
      "1109001/1312500\n",
      "1110001/1312500\n",
      "1111001/1312500\n",
      "1112001/1312500\n",
      "1113001/1312500\n",
      "1114001/1312500\n",
      "1115001/1312500\n",
      "1116001/1312500\n",
      "1117001/1312500\n",
      "1118001/1312500\n",
      "1119001/1312500\n",
      "1120001/1312500\n",
      "1121001/1312500\n",
      "1122001/1312500\n",
      "1123001/1312500\n",
      "1124001/1312500\n",
      "1125001/1312500\n",
      "1126001/1312500\n",
      "1127001/1312500\n",
      "1128001/1312500\n",
      "1129001/1312500\n",
      "1130001/1312500\n",
      "1131001/1312500\n",
      "1132001/1312500\n",
      "1133001/1312500\n",
      "1134001/1312500\n",
      "1135001/1312500\n",
      "1136001/1312500\n",
      "1137001/1312500\n",
      "1138001/1312500\n",
      "1139001/1312500\n",
      "1140001/1312500\n",
      "1141001/1312500\n",
      "1142001/1312500\n",
      "1143001/1312500\n",
      "1144001/1312500\n",
      "1145001/1312500\n",
      "1146001/1312500\n",
      "1147001/1312500\n",
      "1148001/1312500\n",
      "1149001/1312500\n",
      "1150001/1312500\n",
      "1151001/1312500\n",
      "1152001/1312500\n",
      "1153001/1312500\n",
      "1154001/1312500\n",
      "1155001/1312500\n",
      "1156001/1312500\n",
      "1157001/1312500\n",
      "1158001/1312500\n",
      "1159001/1312500\n",
      "1160001/1312500\n",
      "1161001/1312500\n",
      "1162001/1312500\n",
      "1163001/1312500\n",
      "1164001/1312500\n",
      "1165001/1312500\n",
      "1166001/1312500\n",
      "1167001/1312500\n",
      "1168001/1312500\n",
      "1169001/1312500\n",
      "1170001/1312500\n",
      "1171001/1312500\n",
      "1172001/1312500\n",
      "1173001/1312500\n",
      "1174001/1312500\n",
      "1175001/1312500\n",
      "1176001/1312500\n",
      "1177001/1312500\n",
      "1178001/1312500\n",
      "1179001/1312500\n",
      "1180001/1312500\n",
      "1181001/1312500\n",
      "1182001/1312500\n",
      "1183001/1312500\n",
      "1184001/1312500\n",
      "1185001/1312500\n",
      "1186001/1312500\n",
      "1187001/1312500\n",
      "1188001/1312500\n",
      "1189001/1312500\n",
      "1190001/1312500\n",
      "1191001/1312500\n",
      "1192001/1312500\n",
      "1193001/1312500\n",
      "1194001/1312500\n",
      "1195001/1312500\n",
      "1196001/1312500\n",
      "1197001/1312500\n",
      "1198001/1312500\n",
      "1199001/1312500\n",
      "1200001/1312500\n",
      "1201001/1312500\n",
      "1202001/1312500\n",
      "1203001/1312500\n",
      "1204001/1312500\n",
      "1205001/1312500\n",
      "1206001/1312500\n",
      "1207001/1312500\n",
      "1208001/1312500\n",
      "1209001/1312500\n",
      "1210001/1312500\n",
      "1211001/1312500\n",
      "1212001/1312500\n",
      "1213001/1312500\n",
      "1214001/1312500\n",
      "1215001/1312500\n",
      "1216001/1312500\n",
      "1217001/1312500\n",
      "1218001/1312500\n",
      "1219001/1312500\n",
      "1220001/1312500\n",
      "1221001/1312500\n",
      "1222001/1312500\n",
      "1223001/1312500\n",
      "1224001/1312500\n",
      "1225001/1312500\n",
      "1226001/1312500\n",
      "1227001/1312500\n",
      "1228001/1312500\n",
      "1229001/1312500\n",
      "1230001/1312500\n",
      "1231001/1312500\n",
      "1232001/1312500\n",
      "1233001/1312500\n",
      "1234001/1312500\n",
      "1235001/1312500\n",
      "1236001/1312500\n",
      "1237001/1312500\n",
      "1238001/1312500\n",
      "1239001/1312500\n",
      "1240001/1312500\n",
      "1241001/1312500\n",
      "1242001/1312500\n",
      "1243001/1312500\n",
      "1244001/1312500\n",
      "1245001/1312500\n",
      "1246001/1312500\n",
      "1247001/1312500\n",
      "1248001/1312500\n",
      "1249001/1312500\n",
      "1250001/1312500\n",
      "1251001/1312500\n",
      "1252001/1312500\n",
      "1253001/1312500\n",
      "1254001/1312500\n",
      "1255001/1312500\n",
      "1256001/1312500\n",
      "1257001/1312500\n",
      "1258001/1312500\n",
      "1259001/1312500\n",
      "1260001/1312500\n",
      "1261001/1312500\n",
      "1262001/1312500\n",
      "1263001/1312500\n",
      "1264001/1312500\n",
      "1265001/1312500\n",
      "1266001/1312500\n",
      "1267001/1312500\n",
      "1268001/1312500\n",
      "1269001/1312500\n",
      "1270001/1312500\n",
      "1271001/1312500\n",
      "1272001/1312500\n",
      "1273001/1312500\n",
      "1274001/1312500\n",
      "1275001/1312500\n",
      "1276001/1312500\n",
      "1277001/1312500\n",
      "1278001/1312500\n",
      "1279001/1312500\n",
      "1280001/1312500\n",
      "1281001/1312500\n",
      "1282001/1312500\n",
      "1283001/1312500\n",
      "1284001/1312500\n",
      "1285001/1312500\n",
      "1286001/1312500\n",
      "1287001/1312500\n",
      "1288001/1312500\n",
      "1289001/1312500\n",
      "1290001/1312500\n",
      "1291001/1312500\n",
      "1292001/1312500\n",
      "1293001/1312500\n",
      "1294001/1312500\n",
      "1295001/1312500\n",
      "1296001/1312500\n",
      "1297001/1312500\n",
      "1298001/1312500\n",
      "1299001/1312500\n",
      "1300001/1312500\n",
      "1301001/1312500\n",
      "1302001/1312500\n",
      "1303001/1312500\n",
      "1304001/1312500\n",
      "1305001/1312500\n",
      "1306001/1312500\n",
      "1307001/1312500\n",
      "1308001/1312500\n",
      "1309001/1312500\n",
      "1310001/1312500\n",
      "1311001/1312500\n",
      "1312001/1312500\n"
     ]
    }
   ],
   "source": []
  },
  {
   "cell_type": "code",
   "execution_count": 90,
   "metadata": {},
   "outputs": [
    {
     "name": "stdout",
     "output_type": "stream",
     "text": [
      "Dropping 922 (0.070248%) rows due to overlap with hits\n"
     ]
    }
   ],
   "source": []
  },
  {
   "cell_type": "code",
   "execution_count": 91,
   "metadata": {},
   "outputs": [],
   "source": [
    "df_decoys.to_csv(\"mhc2-decoys-50x-netmhciipan-8-3-2018.csv\", index=False)"
   ]
  },
  {
   "cell_type": "code",
   "execution_count": 72,
   "metadata": {},
   "outputs": [
    {
     "name": "stdout",
     "output_type": "stream",
     "text": [
      "allele,peptide,netmhciipan32_affinity\r\n",
      "HLA-DPA1*01:03/DPB1*02:01,SDFYQSNFTIDNQEQSGNDS,516.87\r\n",
      "HLA-DPA1*01:03/DPB1*02:01,AGKSNPTFYLQKGFQTYVLRKKP,95.76\r\n",
      "HLA-DPA1*01:03/DPB1*02:01,DWIKKIIGSKGMAALGVLESDLPSAVTLLKN,362.07\r\n",
      "HLA-DPA1*01:03/DPB1*02:01,YEVVYQIGTETRSDFYDIVLVATPLNRKMSNITFLNFDPPIEEFHQ,53.23\r\n",
      "HLA-DPA1*01:03/DPB1*02:01,RVEDFQQHSQKLLSEETPSAAELQDLLDVSFEFDVELPQ,130.47\r\n",
      "HLA-DPA1*01:03/DPB1*02:01,EKESEQEPLVRALEAGGC,5539.82\r\n",
      "HLA-DPA1*01:03/DPB1*02:01,REEGPFPCPECGKVFLHNSVLTEHGKIHLLEPPRKKAPR,241.0\r\n",
      "HLA-DPA1*01:03/DPB1*02:01,WESKSKPTTLKPIILNEIVDAHKEKIKEVIMKESVAPTEHLRLYD,176.48\r\n",
      "HLA-DPA1*01:03/DPB1*02:01,CLLCRKAVRLFDTPQAKKDGMRLTPFS,700.99\r\n"
     ]
    }
   ],
   "source": [
    "!head mhc2-decoys-50x-netmhciipan-8-3-2018.csv"
   ]
  },
  {
   "cell_type": "code",
   "execution_count": 82,
   "metadata": {},
   "outputs": [
    {
     "data": {
      "text/plain": [
       "83"
      ]
     },
     "execution_count": 82,
     "metadata": {},
     "output_type": "execute_result"
    }
   ],
   "source": [
    "len(set((zip(hits.inferred_allele, hits.peptide))).intersection(set(zip(df_decoys.allele, df_decoys.peptide))))"
   ]
  },
  {
   "cell_type": "code",
   "execution_count": 92,
   "metadata": {},
   "outputs": [],
   "source": [
    "import seaborn\n",
    "from matplotlib import pyplot"
   ]
  },
  {
   "cell_type": "code",
   "execution_count": 105,
   "metadata": {},
   "outputs": [
    {
     "data": {
      "text/plain": [
       "<matplotlib.text.Text at 0x174090f98>"
      ]
     },
     "execution_count": 105,
     "metadata": {},
     "output_type": "execute_result"
    },
    {
     "data": {
      "image/png": "[encoded data removed]",
      "text/plain": [
       "<matplotlib.figure.Figure at 0x1731d2e80>"
      ]
     },
     "metadata": {},
     "output_type": "display_data"
    }
   ],
   "source": [
    "seaborn.distplot([p.percentile_rank for p in preds])\n",
    "pyplot.xlabel(\"log10(netMHCIIpan predicted affinity)\")"
   ]
  },
  {
   "cell_type": "code",
   "execution_count": 103,
   "metadata": {},
   "outputs": [
    {
     "data": {
      "text/plain": [
       "1.4"
      ]
     },
     "execution_count": 103,
     "metadata": {},
     "output_type": "execute_result"
    }
   ],
   "source": []
  },
  {
   "cell_type": "code",
   "execution_count": 101,
   "metadata": {},
   "outputs": [
    {
     "data": {
      "text/plain": [
       "<module 'matplotlib.pyplot' from '/usr/local/lib/python3.6/site-packages/matplotlib/pyplot.py'>"
      ]
     },
     "execution_count": 101,
     "metadata": {},
     "output_type": "execute_result"
    }
   ],
   "source": []
  },
  {
   "cell_type": "code",
   "execution_count": null,
   "metadata": {},
   "outputs": [],
   "source": []
  }
 ],
 "metadata": {
  "kernelspec": {
   "display_name": "Python 3",
   "language": "python",
   "name": "python3"
  },
  "language_info": {
   "codemirror_mode": {
    "name": "ipython",
    "version": 3
   },
   "file_extension": ".py",
   "mimetype": "text/x-python",
   "name": "python",
   "nbconvert_exporter": "python",
   "pygments_lexer": "ipython3",
   "version": "3.6.5"
  }
 },
 "nbformat": 4,
 "nbformat_minor": 2
}
