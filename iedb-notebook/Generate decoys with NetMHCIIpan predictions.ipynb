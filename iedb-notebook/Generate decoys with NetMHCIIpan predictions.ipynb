{
 "cells": [
  {
   "cell_type": "code",
   "execution_count": 1,
   "metadata": {},
   "outputs": [
    {
     "name": "stdout",
     "output_type": "stream",
     "text": [
      "Generate decoys for test data with NetMHCIIpan.ipynb\r\n",
      "Generate decoys with NetMHCIIpan predictions.ipynb\r\n",
      "Generate decoys.ipynb\r\n",
      "Select and filter Class II MHC mass spec data from IEDB.ipynb\r\n",
      "iedb-mhc2-ligands-7-29-2018.csv\r\n",
      "mhc2-decoys-7-31-2018.csv.gz\r\n"
     ]
    }
   ],
   "source": [
    "!ls"
   ]
  },
  {
   "cell_type": "code",
   "execution_count": 2,
   "metadata": {},
   "outputs": [],
   "source": [
    "hits = pd.read_csv(\"iedb-mhc2-ligands-7-29-2018.csv\")"
   ]
  },
  {
   "cell_type": "code",
   "execution_count": 3,
   "metadata": {},
   "outputs": [],
   "source": [
    "hit_seqs = set(hits.peptide)\n"
   ]
  },
  {
   "cell_type": "code",
   "execution_count": 4,
   "metadata": {},
   "outputs": [],
   "source": [
    "lengths = [len(p) for p in hit_seqs]\n",
    "lengths_set = set(lengths)\n",
    "max_length = max(lengths_set)\n",
    "length_counts = np.ones(max_length, dtype=int)\n",
    "for n in lengths:\n",
    "    length_counts[n - 1] += 1"
   ]
  },
  {
   "cell_type": "code",
   "execution_count": 5,
   "metadata": {},
   "outputs": [
    {
     "data": {
      "text/plain": [
       "array([   1,    1,    2,    1,    2,    2,    5,   71,  406,  425,  688,\n",
       "       1226, 2220, 3020, 3098, 2744, 1925, 1175,  694,  467,  299,  176,\n",
       "        130,   92,   61,   16,   21,   16,   13,   10,   11,   10,    6,\n",
       "          5,    4,    5,    5,    3,    2,    1,    1,    1,    5,    1,\n",
       "          1,    2])"
      ]
     },
     "execution_count": 5,
     "metadata": {},
     "output_type": "execute_result"
    }
   ],
   "source": [
    "length_counts"
   ]
  },
  {
   "cell_type": "code",
   "execution_count": 6,
   "metadata": {},
   "outputs": [],
   "source": [
    "length_probs = length_counts / length_counts.sum()"
   ]
  },
  {
   "cell_type": "code",
   "execution_count": 7,
   "metadata": {},
   "outputs": [
    {
     "data": {
      "text/plain": [
       "array([5.24383849e-05, 5.24383849e-05, 1.04876770e-04, 5.24383849e-05,\n",
       "       1.04876770e-04, 1.04876770e-04, 2.62191924e-04, 3.72312533e-03,\n",
       "       2.12899843e-02, 2.22863136e-02, 3.60776088e-02, 6.42894599e-02,\n",
       "       1.16413214e-01, 1.58363922e-01, 1.62454116e-01, 1.43890928e-01,\n",
       "       1.00943891e-01, 6.16151023e-02, 3.63922391e-02, 2.44887257e-02,\n",
       "       1.56790771e-02, 9.22915574e-03, 6.81699004e-03, 4.82433141e-03,\n",
       "       3.19874148e-03, 8.39014158e-04, 1.10120608e-03, 8.39014158e-04,\n",
       "       6.81699004e-04, 5.24383849e-04, 5.76822234e-04, 5.24383849e-04,\n",
       "       3.14630309e-04, 2.62191924e-04, 2.09753540e-04, 2.62191924e-04,\n",
       "       2.62191924e-04, 1.57315155e-04, 1.04876770e-04, 5.24383849e-05,\n",
       "       5.24383849e-05, 5.24383849e-05, 2.62191924e-04, 5.24383849e-05,\n",
       "       5.24383849e-05, 1.04876770e-04])"
      ]
     },
     "execution_count": 7,
     "metadata": {},
     "output_type": "execute_result"
    }
   ],
   "source": [
    "length_probs"
   ]
  },
  {
   "cell_type": "code",
   "execution_count": 8,
   "metadata": {},
   "outputs": [],
   "source": [
    "from pyensembl import ensembl_grch38\n"
   ]
  },
  {
   "cell_type": "code",
   "execution_count": 9,
   "metadata": {},
   "outputs": [],
   "source": [
    "genes = [gene for gene in ensembl_grch38.genes() if gene.biotype == \"protein_coding\"]"
   ]
  },
  {
   "cell_type": "code",
   "execution_count": 10,
   "metadata": {},
   "outputs": [
    {
     "data": {
      "text/plain": [
       "[Transcript(transcript_id=ENST00000612152, name=TSPAN6-204, gene_id=ENSG00000000003, gene_name=TSPAN6, biotype=protein_coding, location=X:100627109-100637104),\n",
       " Transcript(transcript_id=ENST00000373020, name=TSPAN6-201, gene_id=ENSG00000000003, gene_name=TSPAN6, biotype=protein_coding, location=X:100628670-100636806),\n",
       " Transcript(transcript_id=ENST00000614008, name=TSPAN6-205, gene_id=ENSG00000000003, gene_name=TSPAN6, biotype=protein_coding, location=X:100632063-100637104),\n",
       " Transcript(transcript_id=ENST00000496771, name=TSPAN6-203, gene_id=ENSG00000000003, gene_name=TSPAN6, biotype=processed_transcript, location=X:100632541-100636689),\n",
       " Transcript(transcript_id=ENST00000494424, name=TSPAN6-202, gene_id=ENSG00000000003, gene_name=TSPAN6, biotype=processed_transcript, location=X:100633442-100639991)]"
      ]
     },
     "execution_count": 10,
     "metadata": {},
     "output_type": "execute_result"
    }
   ],
   "source": [
    "genes[0].transcripts"
   ]
  },
  {
   "cell_type": "code",
   "execution_count": 11,
   "metadata": {},
   "outputs": [
    {
     "name": "stderr",
     "output_type": "stream",
     "text": [
      "INFO:pyensembl.sequence_data:Loaded sequence dictionary from /Users/iskander/Library/Caches/pyensembl/GRCh38/ensembl93/Homo_sapiens.GRCh38.pep.all.fa.gz.pickle\n"
     ]
    },
    {
     "data": {
      "text/plain": [
       "'MLKLYAMFLTLVFLVELVAAIVGFVFRHEIKNSFKNNYEKALKQYNSTGDYRSHAVDKIQNTLHCCGVTDYRDWTDTNYYSEKGFPKSCCKLEDCTPQRDADKVNNELIGIFLAYCLSRAITNNQYEIV'"
      ]
     },
     "execution_count": 11,
     "metadata": {},
     "output_type": "execute_result"
    }
   ],
   "source": [
    "genes[0].transcripts[0].protein_sequence"
   ]
  },
  {
   "cell_type": "code",
   "execution_count": 57,
   "metadata": {},
   "outputs": [],
   "source": [
    "def concat_protein_sequences(genome=ensembl_grch38, _cache={}):\n",
    "    if genome in _cache:\n",
    "        return _cache[genome]\n",
    "    genes = [gene for gene in genome.genes() if gene.biotype == \"protein_coding\"]\n",
    "    all_protein_sequences = []\n",
    "    for gene in genes:\n",
    "        curr_transcripts = [\n",
    "            t for t in gene.transcripts if t.biotype == \"protein_coding\" \n",
    "        ]\n",
    "        protein_sequences = [\n",
    "            t.protein_sequence for t in curr_transcripts \n",
    "            if  t.protein_sequence is not None \n",
    "            and \"*\" not in t.protein_sequence\n",
    "            and \"X\" not in t.protein_sequence\n",
    "        ]\n",
    "        if len(protein_sequences) == 0:\n",
    "            continue \n",
    "        all_protein_sequences.append(max(protein_sequences, key=len))\n",
    "    long_str =  \"\".join(all_protein_sequences)\n",
    "    _cache[genome] = long_str\n",
    "    return long_str\n",
    "\n",
    "all_proteins = concat_protein_sequences()"
   ]
  },
  {
   "cell_type": "code",
   "execution_count": 58,
   "metadata": {},
   "outputs": [
    {
     "data": {
      "text/plain": [
       "11382812"
      ]
     },
     "execution_count": 58,
     "metadata": {},
     "output_type": "execute_result"
    }
   ],
   "source": [
    "len(all_proteins)"
   ]
  },
  {
   "cell_type": "code",
   "execution_count": 59,
   "metadata": {},
   "outputs": [],
   "source": [
    "def generate_decoys_for_allele(\n",
    "        hit_seqs, \n",
    "        min_length=9,\n",
    "        max_length=None,\n",
    "        decoys_per_hit=100, \n",
    "        genome=ensembl_grch38,\n",
    "        length_pseudocount=2):\n",
    "    n_hits = len(hit_seqs)\n",
    "    lengths = [len(p) for p in hit_seqs]\n",
    "    lengths_set = set(lengths)\n",
    "    if max_length is None:\n",
    "        max_length = max(lengths_set)\n",
    "    length_counts = np.ones(max_length - min_length + 1, dtype=int) * length_pseudocount\n",
    "    for n in lengths:\n",
    "        if n < min_length:\n",
    "            continue\n",
    "        length_counts[n - min_length] += 1\n",
    "    length_probs = length_counts / length_counts.sum()\n",
    "    \n",
    "    n_decoys = n_hits * decoys_per_hit\n",
    "    long_protein_str = concat_protein_sequences(genome)\n",
    "    max_pos = len(long_protein_str)\n",
    "    random_indices = np.random.randint(0, max_pos, n_decoys, dtype=\"int64\")\n",
    "    \n",
    "    random_lengths = np.random.choice(\n",
    "        a=min_length + np.arange(max_length - min_length + 1),\n",
    "        size=n_decoys,\n",
    "        replace=True,\n",
    "        p=length_probs)\n",
    "    decoys = []\n",
    "    for i, n  in zip(random_indices, random_lengths):\n",
    "        decoys.append(long_protein_str[i:i+n])\n",
    "    return decoys\n",
    "\n",
    "def generate_decoys(df_hits, decoys_per_hit=200, genome=ensembl_grch38, length_pseudocount=2, min_length=9):\n",
    "    columns = {\"allele\": [], \"peptide\": []}\n",
    "    max_length = df_hits.peptide.str.len().max()\n",
    "    for allele, df_allele in df_hits.groupby(\"inferred_allele\"):\n",
    "        print(\"%s (%d)\" % (allele, len(df_allele)))\n",
    "        decoys = generate_decoys_for_allele(\n",
    "            hit_seqs=set(df_allele.peptide),\n",
    "            min_length=min_length,\n",
    "            max_length=max_length,\n",
    "            decoys_per_hit=decoys_per_hit,\n",
    "            genome=genome,\n",
    "            length_pseudocount=length_pseudocount)\n",
    "        decoy_lengths = [len(p) for p in decoys]\n",
    "        print(\"==> generated %d decoys (min length=%d, max length=%d, mean length=%f)\" % (\n",
    "            len(decoys),\n",
    "            min(decoy_lengths),\n",
    "            max(decoy_lengths),\n",
    "            np.mean(decoy_lengths)))\n",
    "        \n",
    "        columns[\"allele\"].extend([allele] * len(decoys))\n",
    "        columns[\"peptide\"].extend(decoys)\n",
    "    df_decoys = pd.DataFrame(columns)\n",
    "    return df_decoys\n"
   ]
  },
  {
   "cell_type": "code",
   "execution_count": 60,
   "metadata": {},
   "outputs": [
    {
     "name": "stdout",
     "output_type": "stream",
     "text": [
      "HLA-DPA1*01:03/DPB1*02:01 (12)\n",
      "==> generated 600 decoys (min length=9, max length=46, mean length=25.721667)\n",
      "HLA-DPA1*01:03/DPB1*04:01 (4)\n",
      "==> generated 200 decoys (min length=9, max length=46, mean length=26.380000)\n",
      "HLA-DQA1*01:01/DQB1*05:01 (33)\n",
      "==> generated 1650 decoys (min length=9, max length=46, mean length=24.415758)\n",
      "HLA-DQA1*01:02/DQB1*03:01 (6)\n",
      "==> generated 300 decoys (min length=9, max length=46, mean length=26.243333)\n",
      "HLA-DQA1*01:02/DQB1*05:01 (1)\n",
      "==> generated 50 decoys (min length=9, max length=45, mean length=24.080000)\n",
      "HLA-DQA1*01:02/DQB1*06:02 (55)\n",
      "==> generated 2600 decoys (min length=9, max length=46, mean length=23.087692)\n",
      "HLA-DQA1*01:02/DQB1*06:04 (1)\n",
      "==> generated 50 decoys (min length=9, max length=46, mean length=27.980000)\n",
      "HLA-DQA1*02:01/DQB1*02:02 (7355)\n",
      "==> generated 367050 decoys (min length=9, max length=46, mean length=14.812241)\n",
      "HLA-DQA1*03:01/DQB1*02:01 (13)\n",
      "==> generated 650 decoys (min length=9, max length=46, mean length=26.435385)\n",
      "HLA-DQA1*03:01/DQB1*03:02 (20)\n",
      "==> generated 950 decoys (min length=9, max length=46, mean length=25.980000)\n",
      "HLA-DQA1*05:01/DQB1*02:01 (4399)\n",
      "==> generated 214750 decoys (min length=9, max length=46, mean length=15.118398)\n",
      "HLA-DQA1*05:01/DQB1*03:02 (19)\n",
      "==> generated 950 decoys (min length=9, max length=46, mean length=25.375789)\n",
      "HLA-DQA1*05:05/DQB1*03:01 (7431)\n",
      "==> generated 371550 decoys (min length=9, max length=46, mean length=15.136601)\n",
      "HLA-DRA1*01:01/DRB1*01:01 (3638)\n",
      "==> generated 178850 decoys (min length=9, max length=46, mean length=15.944915)\n",
      "HLA-DRA1*01:01/DRB1*01:02 (6)\n",
      "==> generated 300 decoys (min length=9, max length=46, mean length=26.056667)\n",
      "HLA-DRA1*01:01/DRB1*01:03 (150)\n",
      "==> generated 7500 decoys (min length=9, max length=46, mean length=19.123333)\n",
      "HLA-DRA1*01:01/DRB1*03:01 (186)\n",
      "==> generated 9200 decoys (min length=9, max length=46, mean length=18.309239)\n",
      "HLA-DRA1*01:01/DRB1*04:01 (1254)\n",
      "==> generated 59000 decoys (min length=9, max length=46, mean length=16.550864)\n",
      "HLA-DRA1*01:01/DRB1*04:02 (51)\n",
      "==> generated 2000 decoys (min length=9, max length=46, mean length=23.326500)\n",
      "HLA-DRA1*01:01/DRB1*04:04 (55)\n",
      "==> generated 2700 decoys (min length=9, max length=46, mean length=22.548148)\n",
      "HLA-DRA1*01:01/DRB1*04:05 (35)\n",
      "==> generated 1700 decoys (min length=9, max length=46, mean length=23.837059)\n",
      "HLA-DRA1*01:01/DRB1*08:01 (486)\n",
      "==> generated 24300 decoys (min length=9, max length=46, mean length=18.519177)\n",
      "HLA-DRA1*01:01/DRB1*09:01 (18)\n",
      "==> generated 900 decoys (min length=9, max length=46, mean length=25.292222)\n",
      "HLA-DRA1*01:01/DRB1*10:01 (238)\n",
      "==> generated 11900 decoys (min length=9, max length=46, mean length=18.651345)\n",
      "HLA-DRA1*01:01/DRB1*11:01 (104)\n",
      "==> generated 5200 decoys (min length=9, max length=46, mean length=19.744038)\n",
      "HLA-DRA1*01:01/DRB1*11:04 (24)\n",
      "==> generated 1200 decoys (min length=9, max length=46, mean length=24.960000)\n",
      "HLA-DRA1*01:01/DRB1*13:01 (24)\n",
      "==> generated 1200 decoys (min length=9, max length=46, mean length=25.205833)\n",
      "HLA-DRA1*01:01/DRB1*13:02 (22)\n",
      "==> generated 1100 decoys (min length=9, max length=46, mean length=25.382727)\n",
      "HLA-DRA1*01:01/DRB1*15:01 (678)\n",
      "==> generated 32900 decoys (min length=9, max length=46, mean length=16.978632)\n",
      "HLA-DRA1*01:01/DRB3*01:01 (4)\n",
      "==> generated 200 decoys (min length=9, max length=46, mean length=26.365000)\n",
      "HLA-DRA1*01:01/DRB3*02:02 (13)\n",
      "==> generated 550 decoys (min length=9, max length=46, mean length=26.583636)\n",
      "HLA-DRA1*01:01/DRB3*03:01 (3)\n",
      "==> generated 150 decoys (min length=9, max length=46, mean length=26.546667)\n",
      "HLA-DRA1*01:01/DRB5*01:01 (223)\n",
      "==> generated 10300 decoys (min length=9, max length=46, mean length=20.279320)\n"
     ]
    }
   ],
   "source": [
    "df_decoys = generate_decoys(df_hits=hits, decoys_per_hit=50)"
   ]
  },
  {
   "cell_type": "code",
   "execution_count": 61,
   "metadata": {},
   "outputs": [],
   "source": [
    "alleles = df_decoys.allele.unique()"
   ]
  },
  {
   "cell_type": "code",
   "execution_count": 62,
   "metadata": {},
   "outputs": [
    {
     "name": "stderr",
     "output_type": "stream",
     "text": [
      "INFO:mhctools.base_commandline_predictor:Skipping allele DRB5_0108N: The suffix 'N' of 'DRB5*0108N' was not parsed\n",
      "INFO:mhctools.base_commandline_predictor:Skipping allele BoLA-DRA-DRB30101\tBoLA-DRA-DRB30101: Allele has too many parts: DRA-DRB30101\tBoLA-DRA-DRB30101\n",
      "INFO:mhctools.base_commandline_predictor:Skipping allele BoLA-DRA-DRB31101\tBoLA-DRA-DRB31101: Allele has too many parts: DRA-DRB31101\tBoLA-DRA-DRB31101\n",
      "INFO:mhctools.base_commandline_predictor:Skipping allele BoLA-DRA-DRB31501\tBoLA-DRA-DRB31501: Allele has too many parts: DRA-DRB31501\tBoLA-DRA-DRB31501\n",
      "INFO:mhctools.base_commandline_predictor:Skipping allele DRB5_0108N: The suffix 'N' of 'DRB5*0108N' was not parsed\n",
      "INFO:mhctools.base_commandline_predictor:Skipping allele BoLA-DRA-DRB30101\tBoLA-DRA-DRB30101: Allele has too many parts: DRA-DRB30101\tBoLA-DRA-DRB30101\n",
      "INFO:mhctools.base_commandline_predictor:Skipping allele BoLA-DRA-DRB31101\tBoLA-DRA-DRB31101: Allele has too many parts: DRA-DRB31101\tBoLA-DRA-DRB31101\n",
      "INFO:mhctools.base_commandline_predictor:Skipping allele BoLA-DRA-DRB31501\tBoLA-DRA-DRB31501: Allele has too many parts: DRA-DRB31501\tBoLA-DRA-DRB31501\n",
      "INFO:mhctools.base_commandline_predictor:Skipping allele DRB5_0108N: The suffix 'N' of 'DRB5*0108N' was not parsed\n",
      "INFO:mhctools.base_commandline_predictor:Skipping allele BoLA-DRA-DRB30101\tBoLA-DRA-DRB30101: Allele has too many parts: DRA-DRB30101\tBoLA-DRA-DRB30101\n",
      "INFO:mhctools.base_commandline_predictor:Skipping allele BoLA-DRA-DRB31101\tBoLA-DRA-DRB31101: Allele has too many parts: DRA-DRB31101\tBoLA-DRA-DRB31101\n",
      "INFO:mhctools.base_commandline_predictor:Skipping allele BoLA-DRA-DRB31501\tBoLA-DRA-DRB31501: Allele has too many parts: DRA-DRB31501\tBoLA-DRA-DRB31501\n",
      "INFO:mhctools.base_commandline_predictor:Skipping allele DRB5_0108N: The suffix 'N' of 'DRB5*0108N' was not parsed\n",
      "INFO:mhctools.base_commandline_predictor:Skipping allele BoLA-DRA-DRB30101\tBoLA-DRA-DRB30101: Allele has too many parts: DRA-DRB30101\tBoLA-DRA-DRB30101\n",
      "INFO:mhctools.base_commandline_predictor:Skipping allele BoLA-DRA-DRB31101\tBoLA-DRA-DRB31101: Allele has too many parts: DRA-DRB31101\tBoLA-DRA-DRB31101\n",
      "INFO:mhctools.base_commandline_predictor:Skipping allele BoLA-DRA-DRB31501\tBoLA-DRA-DRB31501: Allele has too many parts: DRA-DRB31501\tBoLA-DRA-DRB31501\n",
      "INFO:mhctools.base_commandline_predictor:Skipping allele DRB5_0108N: The suffix 'N' of 'DRB5*0108N' was not parsed\n",
      "INFO:mhctools.base_commandline_predictor:Skipping allele BoLA-DRA-DRB30101\tBoLA-DRA-DRB30101: Allele has too many parts: DRA-DRB30101\tBoLA-DRA-DRB30101\n",
      "INFO:mhctools.base_commandline_predictor:Skipping allele BoLA-DRA-DRB31101\tBoLA-DRA-DRB31101: Allele has too many parts: DRA-DRB31101\tBoLA-DRA-DRB31101\n",
      "INFO:mhctools.base_commandline_predictor:Skipping allele BoLA-DRA-DRB31501\tBoLA-DRA-DRB31501: Allele has too many parts: DRA-DRB31501\tBoLA-DRA-DRB31501\n",
      "INFO:mhctools.base_commandline_predictor:Skipping allele DRB5_0108N: The suffix 'N' of 'DRB5*0108N' was not parsed\n",
      "INFO:mhctools.base_commandline_predictor:Skipping allele BoLA-DRA-DRB30101\tBoLA-DRA-DRB30101: Allele has too many parts: DRA-DRB30101\tBoLA-DRA-DRB30101\n",
      "INFO:mhctools.base_commandline_predictor:Skipping allele BoLA-DRA-DRB31101\tBoLA-DRA-DRB31101: Allele has too many parts: DRA-DRB31101\tBoLA-DRA-DRB31101\n",
      "INFO:mhctools.base_commandline_predictor:Skipping allele BoLA-DRA-DRB31501\tBoLA-DRA-DRB31501: Allele has too many parts: DRA-DRB31501\tBoLA-DRA-DRB31501\n",
      "INFO:mhctools.base_commandline_predictor:Skipping allele DRB5_0108N: The suffix 'N' of 'DRB5*0108N' was not parsed\n",
      "INFO:mhctools.base_commandline_predictor:Skipping allele BoLA-DRA-DRB30101\tBoLA-DRA-DRB30101: Allele has too many parts: DRA-DRB30101\tBoLA-DRA-DRB30101\n",
      "INFO:mhctools.base_commandline_predictor:Skipping allele BoLA-DRA-DRB31101\tBoLA-DRA-DRB31101: Allele has too many parts: DRA-DRB31101\tBoLA-DRA-DRB31101\n",
      "INFO:mhctools.base_commandline_predictor:Skipping allele BoLA-DRA-DRB31501\tBoLA-DRA-DRB31501: Allele has too many parts: DRA-DRB31501\tBoLA-DRA-DRB31501\n",
      "INFO:mhctools.base_commandline_predictor:Skipping allele DRB5_0108N: The suffix 'N' of 'DRB5*0108N' was not parsed\n",
      "INFO:mhctools.base_commandline_predictor:Skipping allele BoLA-DRA-DRB30101\tBoLA-DRA-DRB30101: Allele has too many parts: DRA-DRB30101\tBoLA-DRA-DRB30101\n",
      "INFO:mhctools.base_commandline_predictor:Skipping allele BoLA-DRA-DRB31101\tBoLA-DRA-DRB31101: Allele has too many parts: DRA-DRB31101\tBoLA-DRA-DRB31101\n",
      "INFO:mhctools.base_commandline_predictor:Skipping allele BoLA-DRA-DRB31501\tBoLA-DRA-DRB31501: Allele has too many parts: DRA-DRB31501\tBoLA-DRA-DRB31501\n",
      "INFO:mhctools.base_commandline_predictor:Skipping allele DRB5_0108N: The suffix 'N' of 'DRB5*0108N' was not parsed\n",
      "INFO:mhctools.base_commandline_predictor:Skipping allele BoLA-DRA-DRB30101\tBoLA-DRA-DRB30101: Allele has too many parts: DRA-DRB30101\tBoLA-DRA-DRB30101\n",
      "INFO:mhctools.base_commandline_predictor:Skipping allele BoLA-DRA-DRB31101\tBoLA-DRA-DRB31101: Allele has too many parts: DRA-DRB31101\tBoLA-DRA-DRB31101\n",
      "INFO:mhctools.base_commandline_predictor:Skipping allele BoLA-DRA-DRB31501\tBoLA-DRA-DRB31501: Allele has too many parts: DRA-DRB31501\tBoLA-DRA-DRB31501\n",
      "INFO:mhctools.base_commandline_predictor:Skipping allele DRB5_0108N: The suffix 'N' of 'DRB5*0108N' was not parsed\n",
      "INFO:mhctools.base_commandline_predictor:Skipping allele BoLA-DRA-DRB30101\tBoLA-DRA-DRB30101: Allele has too many parts: DRA-DRB30101\tBoLA-DRA-DRB30101\n",
      "INFO:mhctools.base_commandline_predictor:Skipping allele BoLA-DRA-DRB31101\tBoLA-DRA-DRB31101: Allele has too many parts: DRA-DRB31101\tBoLA-DRA-DRB31101\n",
      "INFO:mhctools.base_commandline_predictor:Skipping allele BoLA-DRA-DRB31501\tBoLA-DRA-DRB31501: Allele has too many parts: DRA-DRB31501\tBoLA-DRA-DRB31501\n",
      "INFO:mhctools.base_commandline_predictor:Skipping allele DRB5_0108N: The suffix 'N' of 'DRB5*0108N' was not parsed\n",
      "INFO:mhctools.base_commandline_predictor:Skipping allele BoLA-DRA-DRB30101\tBoLA-DRA-DRB30101: Allele has too many parts: DRA-DRB30101\tBoLA-DRA-DRB30101\n",
      "INFO:mhctools.base_commandline_predictor:Skipping allele BoLA-DRA-DRB31101\tBoLA-DRA-DRB31101: Allele has too many parts: DRA-DRB31101\tBoLA-DRA-DRB31101\n",
      "INFO:mhctools.base_commandline_predictor:Skipping allele BoLA-DRA-DRB31501\tBoLA-DRA-DRB31501: Allele has too many parts: DRA-DRB31501\tBoLA-DRA-DRB31501\n",
      "INFO:mhctools.base_commandline_predictor:Skipping allele DRB5_0108N: The suffix 'N' of 'DRB5*0108N' was not parsed\n",
      "INFO:mhctools.base_commandline_predictor:Skipping allele BoLA-DRA-DRB30101\tBoLA-DRA-DRB30101: Allele has too many parts: DRA-DRB30101\tBoLA-DRA-DRB30101\n",
      "INFO:mhctools.base_commandline_predictor:Skipping allele BoLA-DRA-DRB31101\tBoLA-DRA-DRB31101: Allele has too many parts: DRA-DRB31101\tBoLA-DRA-DRB31101\n",
      "INFO:mhctools.base_commandline_predictor:Skipping allele BoLA-DRA-DRB31501\tBoLA-DRA-DRB31501: Allele has too many parts: DRA-DRB31501\tBoLA-DRA-DRB31501\n",
      "INFO:mhctools.base_commandline_predictor:Skipping allele DRB5_0108N: The suffix 'N' of 'DRB5*0108N' was not parsed\n",
      "INFO:mhctools.base_commandline_predictor:Skipping allele BoLA-DRA-DRB30101\tBoLA-DRA-DRB30101: Allele has too many parts: DRA-DRB30101\tBoLA-DRA-DRB30101\n",
      "INFO:mhctools.base_commandline_predictor:Skipping allele BoLA-DRA-DRB31101\tBoLA-DRA-DRB31101: Allele has too many parts: DRA-DRB31101\tBoLA-DRA-DRB31101\n",
      "INFO:mhctools.base_commandline_predictor:Skipping allele BoLA-DRA-DRB31501\tBoLA-DRA-DRB31501: Allele has too many parts: DRA-DRB31501\tBoLA-DRA-DRB31501\n",
      "INFO:mhctools.base_commandline_predictor:Skipping allele DRB5_0108N: The suffix 'N' of 'DRB5*0108N' was not parsed\n",
      "INFO:mhctools.base_commandline_predictor:Skipping allele BoLA-DRA-DRB30101\tBoLA-DRA-DRB30101: Allele has too many parts: DRA-DRB30101\tBoLA-DRA-DRB30101\n",
      "INFO:mhctools.base_commandline_predictor:Skipping allele BoLA-DRA-DRB31101\tBoLA-DRA-DRB31101: Allele has too many parts: DRA-DRB31101\tBoLA-DRA-DRB31101\n",
      "INFO:mhctools.base_commandline_predictor:Skipping allele BoLA-DRA-DRB31501\tBoLA-DRA-DRB31501: Allele has too many parts: DRA-DRB31501\tBoLA-DRA-DRB31501\n",
      "INFO:mhctools.base_commandline_predictor:Skipping allele DRB5_0108N: The suffix 'N' of 'DRB5*0108N' was not parsed\n",
      "INFO:mhctools.base_commandline_predictor:Skipping allele BoLA-DRA-DRB30101\tBoLA-DRA-DRB30101: Allele has too many parts: DRA-DRB30101\tBoLA-DRA-DRB30101\n"
     ]
    },
    {
     "name": "stderr",
     "output_type": "stream",
     "text": [
      "INFO:mhctools.base_commandline_predictor:Skipping allele BoLA-DRA-DRB31101\tBoLA-DRA-DRB31101: Allele has too many parts: DRA-DRB31101\tBoLA-DRA-DRB31101\n",
      "INFO:mhctools.base_commandline_predictor:Skipping allele BoLA-DRA-DRB31501\tBoLA-DRA-DRB31501: Allele has too many parts: DRA-DRB31501\tBoLA-DRA-DRB31501\n",
      "INFO:mhctools.base_commandline_predictor:Skipping allele DRB5_0108N: The suffix 'N' of 'DRB5*0108N' was not parsed\n",
      "INFO:mhctools.base_commandline_predictor:Skipping allele BoLA-DRA-DRB30101\tBoLA-DRA-DRB30101: Allele has too many parts: DRA-DRB30101\tBoLA-DRA-DRB30101\n",
      "INFO:mhctools.base_commandline_predictor:Skipping allele BoLA-DRA-DRB31101\tBoLA-DRA-DRB31101: Allele has too many parts: DRA-DRB31101\tBoLA-DRA-DRB31101\n",
      "INFO:mhctools.base_commandline_predictor:Skipping allele BoLA-DRA-DRB31501\tBoLA-DRA-DRB31501: Allele has too many parts: DRA-DRB31501\tBoLA-DRA-DRB31501\n",
      "INFO:mhctools.base_commandline_predictor:Skipping allele DRB5_0108N: The suffix 'N' of 'DRB5*0108N' was not parsed\n",
      "INFO:mhctools.base_commandline_predictor:Skipping allele BoLA-DRA-DRB30101\tBoLA-DRA-DRB30101: Allele has too many parts: DRA-DRB30101\tBoLA-DRA-DRB30101\n",
      "INFO:mhctools.base_commandline_predictor:Skipping allele BoLA-DRA-DRB31101\tBoLA-DRA-DRB31101: Allele has too many parts: DRA-DRB31101\tBoLA-DRA-DRB31101\n",
      "INFO:mhctools.base_commandline_predictor:Skipping allele BoLA-DRA-DRB31501\tBoLA-DRA-DRB31501: Allele has too many parts: DRA-DRB31501\tBoLA-DRA-DRB31501\n",
      "INFO:mhctools.base_commandline_predictor:Skipping allele DRB5_0108N: The suffix 'N' of 'DRB5*0108N' was not parsed\n",
      "INFO:mhctools.base_commandline_predictor:Skipping allele BoLA-DRA-DRB30101\tBoLA-DRA-DRB30101: Allele has too many parts: DRA-DRB30101\tBoLA-DRA-DRB30101\n",
      "INFO:mhctools.base_commandline_predictor:Skipping allele BoLA-DRA-DRB31101\tBoLA-DRA-DRB31101: Allele has too many parts: DRA-DRB31101\tBoLA-DRA-DRB31101\n",
      "INFO:mhctools.base_commandline_predictor:Skipping allele BoLA-DRA-DRB31501\tBoLA-DRA-DRB31501: Allele has too many parts: DRA-DRB31501\tBoLA-DRA-DRB31501\n",
      "INFO:mhctools.base_commandline_predictor:Skipping allele DRB5_0108N: The suffix 'N' of 'DRB5*0108N' was not parsed\n",
      "INFO:mhctools.base_commandline_predictor:Skipping allele BoLA-DRA-DRB30101\tBoLA-DRA-DRB30101: Allele has too many parts: DRA-DRB30101\tBoLA-DRA-DRB30101\n",
      "INFO:mhctools.base_commandline_predictor:Skipping allele BoLA-DRA-DRB31101\tBoLA-DRA-DRB31101: Allele has too many parts: DRA-DRB31101\tBoLA-DRA-DRB31101\n",
      "INFO:mhctools.base_commandline_predictor:Skipping allele BoLA-DRA-DRB31501\tBoLA-DRA-DRB31501: Allele has too many parts: DRA-DRB31501\tBoLA-DRA-DRB31501\n",
      "INFO:mhctools.base_commandline_predictor:Skipping allele DRB5_0108N: The suffix 'N' of 'DRB5*0108N' was not parsed\n",
      "INFO:mhctools.base_commandline_predictor:Skipping allele BoLA-DRA-DRB30101\tBoLA-DRA-DRB30101: Allele has too many parts: DRA-DRB30101\tBoLA-DRA-DRB30101\n",
      "INFO:mhctools.base_commandline_predictor:Skipping allele BoLA-DRA-DRB31101\tBoLA-DRA-DRB31101: Allele has too many parts: DRA-DRB31101\tBoLA-DRA-DRB31101\n",
      "INFO:mhctools.base_commandline_predictor:Skipping allele BoLA-DRA-DRB31501\tBoLA-DRA-DRB31501: Allele has too many parts: DRA-DRB31501\tBoLA-DRA-DRB31501\n",
      "INFO:mhctools.base_commandline_predictor:Skipping allele DRB5_0108N: The suffix 'N' of 'DRB5*0108N' was not parsed\n",
      "INFO:mhctools.base_commandline_predictor:Skipping allele BoLA-DRA-DRB30101\tBoLA-DRA-DRB30101: Allele has too many parts: DRA-DRB30101\tBoLA-DRA-DRB30101\n",
      "INFO:mhctools.base_commandline_predictor:Skipping allele BoLA-DRA-DRB31101\tBoLA-DRA-DRB31101: Allele has too many parts: DRA-DRB31101\tBoLA-DRA-DRB31101\n",
      "INFO:mhctools.base_commandline_predictor:Skipping allele BoLA-DRA-DRB31501\tBoLA-DRA-DRB31501: Allele has too many parts: DRA-DRB31501\tBoLA-DRA-DRB31501\n",
      "INFO:mhctools.base_commandline_predictor:Skipping allele DRB5_0108N: The suffix 'N' of 'DRB5*0108N' was not parsed\n",
      "INFO:mhctools.base_commandline_predictor:Skipping allele BoLA-DRA-DRB30101\tBoLA-DRA-DRB30101: Allele has too many parts: DRA-DRB30101\tBoLA-DRA-DRB30101\n",
      "INFO:mhctools.base_commandline_predictor:Skipping allele BoLA-DRA-DRB31101\tBoLA-DRA-DRB31101: Allele has too many parts: DRA-DRB31101\tBoLA-DRA-DRB31101\n",
      "INFO:mhctools.base_commandline_predictor:Skipping allele BoLA-DRA-DRB31501\tBoLA-DRA-DRB31501: Allele has too many parts: DRA-DRB31501\tBoLA-DRA-DRB31501\n",
      "INFO:mhctools.base_commandline_predictor:Skipping allele DRB5_0108N: The suffix 'N' of 'DRB5*0108N' was not parsed\n",
      "INFO:mhctools.base_commandline_predictor:Skipping allele BoLA-DRA-DRB30101\tBoLA-DRA-DRB30101: Allele has too many parts: DRA-DRB30101\tBoLA-DRA-DRB30101\n",
      "INFO:mhctools.base_commandline_predictor:Skipping allele BoLA-DRA-DRB31101\tBoLA-DRA-DRB31101: Allele has too many parts: DRA-DRB31101\tBoLA-DRA-DRB31101\n",
      "INFO:mhctools.base_commandline_predictor:Skipping allele BoLA-DRA-DRB31501\tBoLA-DRA-DRB31501: Allele has too many parts: DRA-DRB31501\tBoLA-DRA-DRB31501\n",
      "INFO:mhctools.base_commandline_predictor:Skipping allele DRB5_0108N: The suffix 'N' of 'DRB5*0108N' was not parsed\n",
      "INFO:mhctools.base_commandline_predictor:Skipping allele BoLA-DRA-DRB30101\tBoLA-DRA-DRB30101: Allele has too many parts: DRA-DRB30101\tBoLA-DRA-DRB30101\n",
      "INFO:mhctools.base_commandline_predictor:Skipping allele BoLA-DRA-DRB31101\tBoLA-DRA-DRB31101: Allele has too many parts: DRA-DRB31101\tBoLA-DRA-DRB31101\n",
      "INFO:mhctools.base_commandline_predictor:Skipping allele BoLA-DRA-DRB31501\tBoLA-DRA-DRB31501: Allele has too many parts: DRA-DRB31501\tBoLA-DRA-DRB31501\n",
      "INFO:mhctools.base_commandline_predictor:Skipping allele DRB5_0108N: The suffix 'N' of 'DRB5*0108N' was not parsed\n",
      "INFO:mhctools.base_commandline_predictor:Skipping allele BoLA-DRA-DRB30101\tBoLA-DRA-DRB30101: Allele has too many parts: DRA-DRB30101\tBoLA-DRA-DRB30101\n",
      "INFO:mhctools.base_commandline_predictor:Skipping allele BoLA-DRA-DRB31101\tBoLA-DRA-DRB31101: Allele has too many parts: DRA-DRB31101\tBoLA-DRA-DRB31101\n",
      "INFO:mhctools.base_commandline_predictor:Skipping allele BoLA-DRA-DRB31501\tBoLA-DRA-DRB31501: Allele has too many parts: DRA-DRB31501\tBoLA-DRA-DRB31501\n",
      "INFO:mhctools.base_commandline_predictor:Skipping allele DRB5_0108N: The suffix 'N' of 'DRB5*0108N' was not parsed\n",
      "INFO:mhctools.base_commandline_predictor:Skipping allele BoLA-DRA-DRB30101\tBoLA-DRA-DRB30101: Allele has too many parts: DRA-DRB30101\tBoLA-DRA-DRB30101\n",
      "INFO:mhctools.base_commandline_predictor:Skipping allele BoLA-DRA-DRB31101\tBoLA-DRA-DRB31101: Allele has too many parts: DRA-DRB31101\tBoLA-DRA-DRB31101\n",
      "INFO:mhctools.base_commandline_predictor:Skipping allele BoLA-DRA-DRB31501\tBoLA-DRA-DRB31501: Allele has too many parts: DRA-DRB31501\tBoLA-DRA-DRB31501\n",
      "INFO:mhctools.base_commandline_predictor:Skipping allele DRB5_0108N: The suffix 'N' of 'DRB5*0108N' was not parsed\n",
      "INFO:mhctools.base_commandline_predictor:Skipping allele BoLA-DRA-DRB30101\tBoLA-DRA-DRB30101: Allele has too many parts: DRA-DRB30101\tBoLA-DRA-DRB30101\n",
      "INFO:mhctools.base_commandline_predictor:Skipping allele BoLA-DRA-DRB31101\tBoLA-DRA-DRB31101: Allele has too many parts: DRA-DRB31101\tBoLA-DRA-DRB31101\n",
      "INFO:mhctools.base_commandline_predictor:Skipping allele BoLA-DRA-DRB31501\tBoLA-DRA-DRB31501: Allele has too many parts: DRA-DRB31501\tBoLA-DRA-DRB31501\n",
      "INFO:mhctools.base_commandline_predictor:Skipping allele DRB5_0108N: The suffix 'N' of 'DRB5*0108N' was not parsed\n",
      "INFO:mhctools.base_commandline_predictor:Skipping allele BoLA-DRA-DRB30101\tBoLA-DRA-DRB30101: Allele has too many parts: DRA-DRB30101\tBoLA-DRA-DRB30101\n",
      "INFO:mhctools.base_commandline_predictor:Skipping allele BoLA-DRA-DRB31101\tBoLA-DRA-DRB31101: Allele has too many parts: DRA-DRB31101\tBoLA-DRA-DRB31101\n",
      "INFO:mhctools.base_commandline_predictor:Skipping allele BoLA-DRA-DRB31501\tBoLA-DRA-DRB31501: Allele has too many parts: DRA-DRB31501\tBoLA-DRA-DRB31501\n",
      "INFO:mhctools.base_commandline_predictor:Skipping allele DRB5_0108N: The suffix 'N' of 'DRB5*0108N' was not parsed\n",
      "INFO:mhctools.base_commandline_predictor:Skipping allele BoLA-DRA-DRB30101\tBoLA-DRA-DRB30101: Allele has too many parts: DRA-DRB30101\tBoLA-DRA-DRB30101\n",
      "INFO:mhctools.base_commandline_predictor:Skipping allele BoLA-DRA-DRB31101\tBoLA-DRA-DRB31101: Allele has too many parts: DRA-DRB31101\tBoLA-DRA-DRB31101\n",
      "INFO:mhctools.base_commandline_predictor:Skipping allele BoLA-DRA-DRB31501\tBoLA-DRA-DRB31501: Allele has too many parts: DRA-DRB31501\tBoLA-DRA-DRB31501\n"
     ]
    },
    {
     "name": "stderr",
     "output_type": "stream",
     "text": [
      "INFO:mhctools.base_commandline_predictor:Skipping allele DRB5_0108N: The suffix 'N' of 'DRB5*0108N' was not parsed\n",
      "INFO:mhctools.base_commandline_predictor:Skipping allele BoLA-DRA-DRB30101\tBoLA-DRA-DRB30101: Allele has too many parts: DRA-DRB30101\tBoLA-DRA-DRB30101\n",
      "INFO:mhctools.base_commandline_predictor:Skipping allele BoLA-DRA-DRB31101\tBoLA-DRA-DRB31101: Allele has too many parts: DRA-DRB31101\tBoLA-DRA-DRB31101\n",
      "INFO:mhctools.base_commandline_predictor:Skipping allele BoLA-DRA-DRB31501\tBoLA-DRA-DRB31501: Allele has too many parts: DRA-DRB31501\tBoLA-DRA-DRB31501\n",
      "INFO:mhctools.base_commandline_predictor:Skipping allele DRB5_0108N: The suffix 'N' of 'DRB5*0108N' was not parsed\n",
      "INFO:mhctools.base_commandline_predictor:Skipping allele BoLA-DRA-DRB30101\tBoLA-DRA-DRB30101: Allele has too many parts: DRA-DRB30101\tBoLA-DRA-DRB30101\n",
      "INFO:mhctools.base_commandline_predictor:Skipping allele BoLA-DRA-DRB31101\tBoLA-DRA-DRB31101: Allele has too many parts: DRA-DRB31101\tBoLA-DRA-DRB31101\n",
      "INFO:mhctools.base_commandline_predictor:Skipping allele BoLA-DRA-DRB31501\tBoLA-DRA-DRB31501: Allele has too many parts: DRA-DRB31501\tBoLA-DRA-DRB31501\n",
      "INFO:mhctools.base_commandline_predictor:Skipping allele DRB5_0108N: The suffix 'N' of 'DRB5*0108N' was not parsed\n",
      "INFO:mhctools.base_commandline_predictor:Skipping allele BoLA-DRA-DRB30101\tBoLA-DRA-DRB30101: Allele has too many parts: DRA-DRB30101\tBoLA-DRA-DRB30101\n",
      "INFO:mhctools.base_commandline_predictor:Skipping allele BoLA-DRA-DRB31101\tBoLA-DRA-DRB31101: Allele has too many parts: DRA-DRB31101\tBoLA-DRA-DRB31101\n",
      "INFO:mhctools.base_commandline_predictor:Skipping allele BoLA-DRA-DRB31501\tBoLA-DRA-DRB31501: Allele has too many parts: DRA-DRB31501\tBoLA-DRA-DRB31501\n",
      "INFO:mhctools.base_commandline_predictor:Skipping allele DRB5_0108N: The suffix 'N' of 'DRB5*0108N' was not parsed\n",
      "INFO:mhctools.base_commandline_predictor:Skipping allele BoLA-DRA-DRB30101\tBoLA-DRA-DRB30101: Allele has too many parts: DRA-DRB30101\tBoLA-DRA-DRB30101\n",
      "INFO:mhctools.base_commandline_predictor:Skipping allele BoLA-DRA-DRB31101\tBoLA-DRA-DRB31101: Allele has too many parts: DRA-DRB31101\tBoLA-DRA-DRB31101\n",
      "INFO:mhctools.base_commandline_predictor:Skipping allele BoLA-DRA-DRB31501\tBoLA-DRA-DRB31501: Allele has too many parts: DRA-DRB31501\tBoLA-DRA-DRB31501\n"
     ]
    }
   ],
   "source": [
    "from mhctools import NetMHCIIpan\n",
    "allele_to_predictors = {allele: NetMHCIIpan(alleles=[allele]) for allele in alleles}"
   ]
  },
  {
   "cell_type": "code",
   "execution_count": 63,
   "metadata": {},
   "outputs": [
    {
     "data": {
      "text/plain": [
       "{'HLA-DPA1*01:03/DPB1*02:01': NetMHCIIpan(alleles=['HLA-DPA1*01:03-DPB1*02:01'], default_peptide_lengths=[15, 16, 17, 18, 19, 20]),\n",
       " 'HLA-DPA1*01:03/DPB1*04:01': NetMHCIIpan(alleles=['HLA-DPA1*01:03-DPB1*04:01'], default_peptide_lengths=[15, 16, 17, 18, 19, 20]),\n",
       " 'HLA-DQA1*01:01/DQB1*05:01': NetMHCIIpan(alleles=['HLA-DQA1*01:01-DQB1*05:01'], default_peptide_lengths=[15, 16, 17, 18, 19, 20]),\n",
       " 'HLA-DQA1*01:02/DQB1*03:01': NetMHCIIpan(alleles=['HLA-DQA1*01:02-DQB1*03:01'], default_peptide_lengths=[15, 16, 17, 18, 19, 20]),\n",
       " 'HLA-DQA1*01:02/DQB1*05:01': NetMHCIIpan(alleles=['HLA-DQA1*01:02-DQB1*05:01'], default_peptide_lengths=[15, 16, 17, 18, 19, 20]),\n",
       " 'HLA-DQA1*01:02/DQB1*06:02': NetMHCIIpan(alleles=['HLA-DQA1*01:02-DQB1*06:02'], default_peptide_lengths=[15, 16, 17, 18, 19, 20]),\n",
       " 'HLA-DQA1*01:02/DQB1*06:04': NetMHCIIpan(alleles=['HLA-DQA1*01:02-DQB1*06:04'], default_peptide_lengths=[15, 16, 17, 18, 19, 20]),\n",
       " 'HLA-DQA1*02:01/DQB1*02:02': NetMHCIIpan(alleles=['HLA-DQA1*02:01-DQB1*02:02'], default_peptide_lengths=[15, 16, 17, 18, 19, 20]),\n",
       " 'HLA-DQA1*03:01/DQB1*02:01': NetMHCIIpan(alleles=['HLA-DQA1*03:01-DQB1*02:01'], default_peptide_lengths=[15, 16, 17, 18, 19, 20]),\n",
       " 'HLA-DQA1*03:01/DQB1*03:02': NetMHCIIpan(alleles=['HLA-DQA1*03:01-DQB1*03:02'], default_peptide_lengths=[15, 16, 17, 18, 19, 20]),\n",
       " 'HLA-DQA1*05:01/DQB1*02:01': NetMHCIIpan(alleles=['HLA-DQA1*05:01-DQB1*02:01'], default_peptide_lengths=[15, 16, 17, 18, 19, 20]),\n",
       " 'HLA-DQA1*05:01/DQB1*03:02': NetMHCIIpan(alleles=['HLA-DQA1*05:01-DQB1*03:02'], default_peptide_lengths=[15, 16, 17, 18, 19, 20]),\n",
       " 'HLA-DQA1*05:05/DQB1*03:01': NetMHCIIpan(alleles=['HLA-DQA1*05:05-DQB1*03:01'], default_peptide_lengths=[15, 16, 17, 18, 19, 20]),\n",
       " 'HLA-DRA1*01:01/DRB1*01:01': NetMHCIIpan(alleles=['HLA-DRA1*01:01-DRB1*01:01'], default_peptide_lengths=[15, 16, 17, 18, 19, 20]),\n",
       " 'HLA-DRA1*01:01/DRB1*01:02': NetMHCIIpan(alleles=['HLA-DRA1*01:01-DRB1*01:02'], default_peptide_lengths=[15, 16, 17, 18, 19, 20]),\n",
       " 'HLA-DRA1*01:01/DRB1*01:03': NetMHCIIpan(alleles=['HLA-DRA1*01:01-DRB1*01:03'], default_peptide_lengths=[15, 16, 17, 18, 19, 20]),\n",
       " 'HLA-DRA1*01:01/DRB1*03:01': NetMHCIIpan(alleles=['HLA-DRA1*01:01-DRB1*03:01'], default_peptide_lengths=[15, 16, 17, 18, 19, 20]),\n",
       " 'HLA-DRA1*01:01/DRB1*04:01': NetMHCIIpan(alleles=['HLA-DRA1*01:01-DRB1*04:01'], default_peptide_lengths=[15, 16, 17, 18, 19, 20]),\n",
       " 'HLA-DRA1*01:01/DRB1*04:02': NetMHCIIpan(alleles=['HLA-DRA1*01:01-DRB1*04:02'], default_peptide_lengths=[15, 16, 17, 18, 19, 20]),\n",
       " 'HLA-DRA1*01:01/DRB1*04:04': NetMHCIIpan(alleles=['HLA-DRA1*01:01-DRB1*04:04'], default_peptide_lengths=[15, 16, 17, 18, 19, 20]),\n",
       " 'HLA-DRA1*01:01/DRB1*04:05': NetMHCIIpan(alleles=['HLA-DRA1*01:01-DRB1*04:05'], default_peptide_lengths=[15, 16, 17, 18, 19, 20]),\n",
       " 'HLA-DRA1*01:01/DRB1*08:01': NetMHCIIpan(alleles=['HLA-DRA1*01:01-DRB1*08:01'], default_peptide_lengths=[15, 16, 17, 18, 19, 20]),\n",
       " 'HLA-DRA1*01:01/DRB1*09:01': NetMHCIIpan(alleles=['HLA-DRA1*01:01-DRB1*09:01'], default_peptide_lengths=[15, 16, 17, 18, 19, 20]),\n",
       " 'HLA-DRA1*01:01/DRB1*10:01': NetMHCIIpan(alleles=['HLA-DRA1*01:01-DRB1*10:01'], default_peptide_lengths=[15, 16, 17, 18, 19, 20]),\n",
       " 'HLA-DRA1*01:01/DRB1*11:01': NetMHCIIpan(alleles=['HLA-DRA1*01:01-DRB1*11:01'], default_peptide_lengths=[15, 16, 17, 18, 19, 20]),\n",
       " 'HLA-DRA1*01:01/DRB1*11:04': NetMHCIIpan(alleles=['HLA-DRA1*01:01-DRB1*11:04'], default_peptide_lengths=[15, 16, 17, 18, 19, 20]),\n",
       " 'HLA-DRA1*01:01/DRB1*13:01': NetMHCIIpan(alleles=['HLA-DRA1*01:01-DRB1*13:01'], default_peptide_lengths=[15, 16, 17, 18, 19, 20]),\n",
       " 'HLA-DRA1*01:01/DRB1*13:02': NetMHCIIpan(alleles=['HLA-DRA1*01:01-DRB1*13:02'], default_peptide_lengths=[15, 16, 17, 18, 19, 20]),\n",
       " 'HLA-DRA1*01:01/DRB1*15:01': NetMHCIIpan(alleles=['HLA-DRA1*01:01-DRB1*15:01'], default_peptide_lengths=[15, 16, 17, 18, 19, 20]),\n",
       " 'HLA-DRA1*01:01/DRB3*01:01': NetMHCIIpan(alleles=['HLA-DRA1*01:01-DRB3*01:01'], default_peptide_lengths=[15, 16, 17, 18, 19, 20]),\n",
       " 'HLA-DRA1*01:01/DRB3*02:02': NetMHCIIpan(alleles=['HLA-DRA1*01:01-DRB3*02:02'], default_peptide_lengths=[15, 16, 17, 18, 19, 20]),\n",
       " 'HLA-DRA1*01:01/DRB3*03:01': NetMHCIIpan(alleles=['HLA-DRA1*01:01-DRB3*03:01'], default_peptide_lengths=[15, 16, 17, 18, 19, 20]),\n",
       " 'HLA-DRA1*01:01/DRB5*01:01': NetMHCIIpan(alleles=['HLA-DRA1*01:01-DRB5*01:01'], default_peptide_lengths=[15, 16, 17, 18, 19, 20])}"
      ]
     },
     "execution_count": 63,
     "metadata": {},
     "output_type": "execute_result"
    }
   ],
   "source": [
    "allele_to_predictors"
   ]
  },
  {
   "cell_type": "code",
   "execution_count": 64,
   "metadata": {},
   "outputs": [
    {
     "name": "stdout",
     "output_type": "stream",
     "text": [
      "HLA-DPA1*01:03/DPB1*02:01 (n=600)\n"
     ]
    },
    {
     "name": "stderr",
     "output_type": "stream",
     "text": [
      "INFO:mhctools.process_helpers:Ran 1 commands in 10.8760 seconds\n"
     ]
    },
    {
     "name": "stdout",
     "output_type": "stream",
     "text": [
      "HLA-DPA1*01:03/DPB1*04:01 (n=200)\n"
     ]
    },
    {
     "name": "stderr",
     "output_type": "stream",
     "text": [
      "INFO:mhctools.process_helpers:Ran 1 commands in 3.8102 seconds\n"
     ]
    },
    {
     "name": "stdout",
     "output_type": "stream",
     "text": [
      "HLA-DQA1*01:01/DQB1*05:01 (n=1650)\n"
     ]
    },
    {
     "name": "stderr",
     "output_type": "stream",
     "text": [
      "INFO:mhctools.process_helpers:Ran 1 commands in 27.2423 seconds\n"
     ]
    },
    {
     "name": "stdout",
     "output_type": "stream",
     "text": [
      "HLA-DQA1*01:02/DQB1*03:01 (n=300)\n"
     ]
    },
    {
     "name": "stderr",
     "output_type": "stream",
     "text": [
      "INFO:mhctools.process_helpers:Ran 1 commands in 5.5673 seconds\n"
     ]
    },
    {
     "name": "stdout",
     "output_type": "stream",
     "text": [
      "HLA-DQA1*01:02/DQB1*05:01 (n=50)\n"
     ]
    },
    {
     "name": "stderr",
     "output_type": "stream",
     "text": [
      "INFO:mhctools.process_helpers:Ran 1 commands in 1.0403 seconds\n"
     ]
    },
    {
     "name": "stdout",
     "output_type": "stream",
     "text": [
      "HLA-DQA1*01:02/DQB1*06:02 (n=2600)\n"
     ]
    },
    {
     "name": "stderr",
     "output_type": "stream",
     "text": [
      "INFO:mhctools.process_helpers:Ran 1 commands in 44.5744 seconds\n"
     ]
    },
    {
     "name": "stdout",
     "output_type": "stream",
     "text": [
      "HLA-DQA1*01:02/DQB1*06:04 (n=50)\n"
     ]
    },
    {
     "name": "stderr",
     "output_type": "stream",
     "text": [
      "INFO:mhctools.process_helpers:Ran 1 commands in 1.5141 seconds\n"
     ]
    },
    {
     "name": "stdout",
     "output_type": "stream",
     "text": [
      "HLA-DQA1*02:01/DQB1*02:02 (n=367050)\n"
     ]
    },
    {
     "name": "stderr",
     "output_type": "stream",
     "text": [
      "INFO:mhctools.process_helpers:Ran 37 commands in 1693.9045 seconds\n"
     ]
    },
    {
     "name": "stdout",
     "output_type": "stream",
     "text": [
      "HLA-DQA1*03:01/DQB1*02:01 (n=650)\n"
     ]
    },
    {
     "name": "stderr",
     "output_type": "stream",
     "text": [
      "INFO:mhctools.process_helpers:Ran 1 commands in 17.9382 seconds\n"
     ]
    },
    {
     "name": "stdout",
     "output_type": "stream",
     "text": [
      "HLA-DQA1*03:01/DQB1*03:02 (n=950)\n"
     ]
    },
    {
     "name": "stderr",
     "output_type": "stream",
     "text": [
      "INFO:mhctools.process_helpers:Ran 1 commands in 18.8367 seconds\n"
     ]
    },
    {
     "name": "stdout",
     "output_type": "stream",
     "text": [
      "HLA-DQA1*05:01/DQB1*02:01 (n=214750)\n"
     ]
    },
    {
     "name": "stderr",
     "output_type": "stream",
     "text": [
      "INFO:mhctools.process_helpers:Ran 22 commands in 1055.2396 seconds\n"
     ]
    },
    {
     "name": "stdout",
     "output_type": "stream",
     "text": [
      "HLA-DQA1*05:01/DQB1*03:02 (n=950)\n"
     ]
    },
    {
     "name": "stderr",
     "output_type": "stream",
     "text": [
      "INFO:mhctools.process_helpers:Ran 1 commands in 17.7287 seconds\n"
     ]
    },
    {
     "name": "stdout",
     "output_type": "stream",
     "text": [
      "HLA-DQA1*05:05/DQB1*03:01 (n=371550)\n"
     ]
    },
    {
     "name": "stderr",
     "output_type": "stream",
     "text": [
      "INFO:mhctools.process_helpers:Ran 38 commands in 1930.5847 seconds\n"
     ]
    },
    {
     "name": "stdout",
     "output_type": "stream",
     "text": [
      "HLA-DRA1*01:01/DRB1*01:01 (n=178850)\n"
     ]
    },
    {
     "name": "stderr",
     "output_type": "stream",
     "text": [
      "INFO:mhctools.process_helpers:Ran 18 commands in 57753.3324 seconds\n"
     ]
    },
    {
     "name": "stdout",
     "output_type": "stream",
     "text": [
      "HLA-DRA1*01:01/DRB1*01:02 (n=300)\n"
     ]
    },
    {
     "name": "stderr",
     "output_type": "stream",
     "text": [
      "INFO:mhctools.process_helpers:Ran 1 commands in 5.2295 seconds\n"
     ]
    },
    {
     "name": "stdout",
     "output_type": "stream",
     "text": [
      "HLA-DRA1*01:01/DRB1*01:03 (n=7500)\n"
     ]
    },
    {
     "name": "stderr",
     "output_type": "stream",
     "text": [
      "INFO:mhctools.process_helpers:Ran 1 commands in 92.5820 seconds\n"
     ]
    },
    {
     "name": "stdout",
     "output_type": "stream",
     "text": [
      "HLA-DRA1*01:01/DRB1*03:01 (n=9200)\n"
     ]
    },
    {
     "name": "stderr",
     "output_type": "stream",
     "text": [
      "INFO:mhctools.process_helpers:Ran 1 commands in 104.5592 seconds\n"
     ]
    },
    {
     "name": "stdout",
     "output_type": "stream",
     "text": [
      "HLA-DRA1*01:01/DRB1*04:01 (n=59000)\n"
     ]
    },
    {
     "name": "stderr",
     "output_type": "stream",
     "text": [
      "INFO:mhctools.process_helpers:Ran 6 commands in 285.8440 seconds\n"
     ]
    },
    {
     "name": "stdout",
     "output_type": "stream",
     "text": [
      "HLA-DRA1*01:01/DRB1*04:02 (n=2000)\n"
     ]
    },
    {
     "name": "stderr",
     "output_type": "stream",
     "text": [
      "INFO:mhctools.process_helpers:Ran 1 commands in 32.1879 seconds\n"
     ]
    },
    {
     "name": "stdout",
     "output_type": "stream",
     "text": [
      "HLA-DRA1*01:01/DRB1*04:04 (n=2700)\n"
     ]
    },
    {
     "name": "stderr",
     "output_type": "stream",
     "text": [
      "INFO:mhctools.process_helpers:Ran 1 commands in 38.6597 seconds\n"
     ]
    },
    {
     "name": "stdout",
     "output_type": "stream",
     "text": [
      "HLA-DRA1*01:01/DRB1*04:05 (n=1700)\n"
     ]
    },
    {
     "name": "stderr",
     "output_type": "stream",
     "text": [
      "INFO:mhctools.process_helpers:Ran 1 commands in 25.7416 seconds\n"
     ]
    },
    {
     "name": "stdout",
     "output_type": "stream",
     "text": [
      "HLA-DRA1*01:01/DRB1*08:01 (n=24300)\n"
     ]
    },
    {
     "name": "stderr",
     "output_type": "stream",
     "text": [
      "INFO:mhctools.process_helpers:Ran 3 commands in 162.4868 seconds\n"
     ]
    },
    {
     "name": "stdout",
     "output_type": "stream",
     "text": [
      "HLA-DRA1*01:01/DRB1*09:01 (n=900)\n"
     ]
    },
    {
     "name": "stderr",
     "output_type": "stream",
     "text": [
      "INFO:mhctools.process_helpers:Ran 1 commands in 17.2663 seconds\n"
     ]
    },
    {
     "name": "stdout",
     "output_type": "stream",
     "text": [
      "HLA-DRA1*01:01/DRB1*10:01 (n=11900)\n"
     ]
    },
    {
     "name": "stderr",
     "output_type": "stream",
     "text": [
      "INFO:mhctools.process_helpers:Ran 2 commands in 111.2515 seconds\n"
     ]
    },
    {
     "name": "stdout",
     "output_type": "stream",
     "text": [
      "HLA-DRA1*01:01/DRB1*11:01 (n=5200)\n"
     ]
    },
    {
     "name": "stderr",
     "output_type": "stream",
     "text": [
      "INFO:mhctools.process_helpers:Ran 1 commands in 59.9228 seconds\n"
     ]
    },
    {
     "name": "stdout",
     "output_type": "stream",
     "text": [
      "HLA-DRA1*01:01/DRB1*11:04 (n=1200)\n"
     ]
    },
    {
     "name": "stderr",
     "output_type": "stream",
     "text": [
      "INFO:mhctools.process_helpers:Ran 1 commands in 19.2151 seconds\n"
     ]
    },
    {
     "name": "stdout",
     "output_type": "stream",
     "text": [
      "HLA-DRA1*01:01/DRB1*13:01 (n=1200)\n"
     ]
    },
    {
     "name": "stderr",
     "output_type": "stream",
     "text": [
      "INFO:mhctools.process_helpers:Ran 1 commands in 19.2551 seconds\n"
     ]
    },
    {
     "name": "stdout",
     "output_type": "stream",
     "text": [
      "HLA-DRA1*01:01/DRB1*13:02 (n=1100)\n"
     ]
    },
    {
     "name": "stderr",
     "output_type": "stream",
     "text": [
      "INFO:mhctools.process_helpers:Ran 1 commands in 18.2489 seconds\n"
     ]
    },
    {
     "name": "stdout",
     "output_type": "stream",
     "text": [
      "HLA-DRA1*01:01/DRB1*15:01 (n=32900)\n"
     ]
    },
    {
     "name": "stderr",
     "output_type": "stream",
     "text": [
      "INFO:mhctools.process_helpers:Ran 4 commands in 164.4450 seconds\n"
     ]
    },
    {
     "name": "stdout",
     "output_type": "stream",
     "text": [
      "HLA-DRA1*01:01/DRB3*01:01 (n=200)\n"
     ]
    },
    {
     "name": "stderr",
     "output_type": "stream",
     "text": [
      "INFO:mhctools.process_helpers:Ran 1 commands in 4.5036 seconds\n"
     ]
    },
    {
     "name": "stdout",
     "output_type": "stream",
     "text": [
      "HLA-DRA1*01:01/DRB3*02:02 (n=550)\n"
     ]
    },
    {
     "name": "stderr",
     "output_type": "stream",
     "text": [
      "INFO:mhctools.process_helpers:Ran 1 commands in 17.0104 seconds\n"
     ]
    },
    {
     "name": "stdout",
     "output_type": "stream",
     "text": [
      "HLA-DRA1*01:01/DRB3*03:01 (n=150)\n"
     ]
    },
    {
     "name": "stderr",
     "output_type": "stream",
     "text": [
      "INFO:mhctools.process_helpers:Ran 1 commands in 3.4837 seconds\n"
     ]
    },
    {
     "name": "stdout",
     "output_type": "stream",
     "text": [
      "HLA-DRA1*01:01/DRB5*01:01 (n=10300)\n"
     ]
    },
    {
     "name": "stderr",
     "output_type": "stream",
     "text": [
      "INFO:mhctools.process_helpers:Ran 2 commands in 136.9722 seconds\n"
     ]
    }
   ],
   "source": [
    "netmhciipan_predictions = {}\n",
    "\n",
    "for (allele, df_allele) in df_decoys.groupby(\"allele\"):\n",
    "    peptides = list(df_allele.peptide)\n",
    "    print(\"%s (n=%d)\" % (allele, len(df_allele)))\n",
    "    pred = allele_to_predictors[allele].predict_peptides(peptides)\n",
    "    netmhciipan_predictions[allele] = pred"
   ]
  },
  {
   "cell_type": "code",
   "execution_count": null,
   "metadata": {},
   "outputs": [],
   "source": [
    "# filter out any sequences contained by hits or which contain hits\n",
    "allele_to_hit_peptides = {}\n",
    "for allele, hits_df in hits.groupby(\"inferred_allele\"):\n",
    "    allele_to_hit_peptides[allele] = set(hits_df.peptide)\n",
    "mask = np.ones(len(df_decoys), dtype=bool)\n",
    "for i, (allele, peptide) in enumerate(zip(df_decoys.allele, df_decoys.peptide)):\n",
    "    if i % 1000 == 0:\n",
    "        print(\"%d/%d\" % (i + 1, len(df_decoys)))\n",
    "    mask[i] = not any([hit_p in peptide for hit_p in allele_to_hit_peptides[allele]])\n",
    "n_dropped = (~mask).sum()\n",
    "print(\"Dropping %d (%f%%) rows due to overlap with hits\" % (n_dropped, 100.0 * n_dropped / len(df_decoys)))\n",
    "df_decoys = df_decoys[mask]"
   ]
  },
  {
   "cell_type": "code",
   "execution_count": 107,
   "metadata": {},
   "outputs": [],
   "source": [
    "pmhc_to_aff = {}\n",
    "pmhc_to_pr = {}"
   ]
  },
  {
   "cell_type": "code",
   "execution_count": 108,
   "metadata": {},
   "outputs": [],
   "source": [
    "for (allele, preds) in netmhciipan_predictions.items():\n",
    "    for pred in preds:\n",
    "        pmhc_to_aff[(allele, pred.peptide)] = pred.affinity\n",
    "        pmhc_to_pr[(allele, pred.peptide)] = pred.percentile_rank"
   ]
  },
  {
   "cell_type": "code",
   "execution_count": null,
   "metadata": {},
   "outputs": [],
   "source": []
  },
  {
   "cell_type": "code",
   "execution_count": 109,
   "metadata": {},
   "outputs": [],
   "source": [
    "affinities_list_in_same_order_as_df = []\n",
    "percentile_ranks_list_in_same_order_as_df = []\n",
    "\n",
    "for allele, peptide in zip(df_decoys.allele, df_decoys.peptide):\n",
    "    affinities_list_in_same_order_as_df.append(pmhc_to_aff[(allele, peptide)])\n",
    "    percentile_ranks_list_in_same_order_as_df.append(pmhc_to_pr[(allele, peptide)])\n",
    "df_decoys[\"netmhciipan32_affinity\"] = affinities_list_in_same_order_as_df\n",
    "df_decoys[\"netmhciipan32_percentile_rank\"] = percentile_ranks_list_in_same_order_as_df\n"
   ]
  },
  {
   "cell_type": "code",
   "execution_count": 110,
   "metadata": {},
   "outputs": [],
   "source": [
    "df_decoys.to_csv(\"mhc2-decoys-50x-netmhciipan-8-3-2018.csv\", index=False)"
   ]
  },
  {
   "cell_type": "code",
   "execution_count": 111,
   "metadata": {},
   "outputs": [
    {
     "name": "stdout",
     "output_type": "stream",
     "text": [
      "allele,peptide,netmhciipan32_affinity,netmhciipan32_percentile_rank\r\n",
      "HLA-DPA1*01:03/DPB1*02:01,SDFYQSNFTIDNQEQSGNDS,516.87,45.0\r\n",
      "HLA-DPA1*01:03/DPB1*02:01,AGKSNPTFYLQKGFQTYVLRKKP,95.76,10.0\r\n",
      "HLA-DPA1*01:03/DPB1*02:01,DWIKKIIGSKGMAALGVLESDLPSAVTLLKN,362.07,37.0\r\n",
      "HLA-DPA1*01:03/DPB1*02:01,YEVVYQIGTETRSDFYDIVLVATPLNRKMSNITFLNFDPPIEEFHQ,53.23,4.0\r\n",
      "HLA-DPA1*01:03/DPB1*02:01,RVEDFQQHSQKLLSEETPSAAELQDLLDVSFEFDVELPQ,130.47,15.0\r\n",
      "HLA-DPA1*01:03/DPB1*02:01,EKESEQEPLVRALEAGGC,5539.82,90.0\r\n",
      "HLA-DPA1*01:03/DPB1*02:01,REEGPFPCPECGKVFLHNSVLTEHGKIHLLEPPRKKAPR,241.0,28.0\r\n",
      "HLA-DPA1*01:03/DPB1*02:01,WESKSKPTTLKPIILNEIVDAHKEKIKEVIMKESVAPTEHLRLYD,176.48,21.0\r\n",
      "HLA-DPA1*01:03/DPB1*02:01,CLLCRKAVRLFDTPQAKKDGMRLTPFS,700.99,55.0\r\n"
     ]
    }
   ],
   "source": [
    "!head mhc2-decoys-50x-netmhciipan-8-3-2018.csv"
   ]
  },
  {
   "cell_type": "code",
   "execution_count": 112,
   "metadata": {},
   "outputs": [
    {
     "data": {
      "text/plain": [
       "0"
      ]
     },
     "execution_count": 112,
     "metadata": {},
     "output_type": "execute_result"
    }
   ],
   "source": [
    "len(set((zip(hits.inferred_allele, hits.peptide))).intersection(set(zip(df_decoys.allele, df_decoys.peptide))))"
   ]
  },
  {
   "cell_type": "code",
   "execution_count": 113,
   "metadata": {},
   "outputs": [],
   "source": [
    "import seaborn\n",
    "from matplotlib import pyplot"
   ]
  },
  {
   "cell_type": "code",
   "execution_count": 114,
   "metadata": {},
   "outputs": [
    {
     "data": {
      "text/plain": [
       "<matplotlib.text.Text at 0x1740b6f60>"
      ]
     },
     "execution_count": 114,
     "metadata": {},
     "output_type": "execute_result"
    },
    {
     "data": {
      "image/png": "[encoded data removed]",
      "text/plain": [
       "<matplotlib.figure.Figure at 0x1592d36a0>"
      ]
     },
     "metadata": {},
     "output_type": "display_data"
    }
   ],
   "source": [
    "seaborn.distplot(df_decoys.affinity)\n",
    "pyplot.xlabel(\"log10(netMHCIIpan predicted affinity)\")"
   ]
  },
  {
   "cell_type": "code",
   "execution_count": 118,
   "metadata": {},
   "outputs": [
    {
     "name": "stdout",
     "output_type": "stream",
     "text": [
      "HLA-DPA1*01:03/DPB1*02:01 (12)\n"
     ]
    },
    {
     "name": "stderr",
     "output_type": "stream",
     "text": [
      "INFO:mhctools.process_helpers:Ran 1 commands in 0.3576 seconds\n"
     ]
    },
    {
     "name": "stdout",
     "output_type": "stream",
     "text": [
      "HLA-DPA1*01:03/DPB1*04:01 (4)\n"
     ]
    },
    {
     "name": "stderr",
     "output_type": "stream",
     "text": [
      "INFO:mhctools.process_helpers:Ran 1 commands in 0.2414 seconds\n"
     ]
    },
    {
     "name": "stdout",
     "output_type": "stream",
     "text": [
      "HLA-DQA1*01:01/DQB1*05:01 (33)\n"
     ]
    },
    {
     "name": "stderr",
     "output_type": "stream",
     "text": [
      "INFO:mhctools.process_helpers:Ran 1 commands in 0.5061 seconds\n"
     ]
    },
    {
     "name": "stdout",
     "output_type": "stream",
     "text": [
      "HLA-DQA1*01:02/DQB1*03:01 (6)\n"
     ]
    },
    {
     "name": "stderr",
     "output_type": "stream",
     "text": [
      "INFO:mhctools.process_helpers:Ran 1 commands in 0.2869 seconds\n"
     ]
    },
    {
     "name": "stdout",
     "output_type": "stream",
     "text": [
      "HLA-DQA1*01:02/DQB1*05:01 (1)\n"
     ]
    },
    {
     "name": "stderr",
     "output_type": "stream",
     "text": [
      "INFO:mhctools.process_helpers:Ran 1 commands in 0.2290 seconds\n"
     ]
    },
    {
     "name": "stdout",
     "output_type": "stream",
     "text": [
      "HLA-DQA1*01:02/DQB1*06:02 (55)\n"
     ]
    },
    {
     "name": "stderr",
     "output_type": "stream",
     "text": [
      "INFO:mhctools.process_helpers:Ran 1 commands in 0.9858 seconds\n"
     ]
    },
    {
     "name": "stdout",
     "output_type": "stream",
     "text": [
      "HLA-DQA1*01:02/DQB1*06:04 (1)\n"
     ]
    },
    {
     "name": "stderr",
     "output_type": "stream",
     "text": [
      "INFO:mhctools.process_helpers:Ran 1 commands in 0.2154 seconds\n"
     ]
    },
    {
     "name": "stdout",
     "output_type": "stream",
     "text": [
      "HLA-DQA1*02:01/DQB1*02:02 (7355)\n"
     ]
    },
    {
     "name": "stderr",
     "output_type": "stream",
     "text": [
      "INFO:mhctools.process_helpers:Ran 1 commands in 60.3232 seconds\n"
     ]
    },
    {
     "name": "stdout",
     "output_type": "stream",
     "text": [
      "HLA-DQA1*03:01/DQB1*02:01 (13)\n"
     ]
    },
    {
     "name": "stderr",
     "output_type": "stream",
     "text": [
      "INFO:mhctools.process_helpers:Ran 1 commands in 0.6540 seconds\n"
     ]
    },
    {
     "name": "stdout",
     "output_type": "stream",
     "text": [
      "HLA-DQA1*03:01/DQB1*03:02 (20)\n"
     ]
    },
    {
     "name": "stderr",
     "output_type": "stream",
     "text": [
      "INFO:mhctools.process_helpers:Ran 1 commands in 0.4321 seconds\n"
     ]
    },
    {
     "name": "stdout",
     "output_type": "stream",
     "text": [
      "HLA-DQA1*05:01/DQB1*02:01 (4399)\n"
     ]
    },
    {
     "name": "stderr",
     "output_type": "stream",
     "text": [
      "INFO:mhctools.process_helpers:Ran 1 commands in 39.5033 seconds\n"
     ]
    },
    {
     "name": "stdout",
     "output_type": "stream",
     "text": [
      "HLA-DQA1*05:01/DQB1*03:02 (19)\n"
     ]
    },
    {
     "name": "stderr",
     "output_type": "stream",
     "text": [
      "INFO:mhctools.process_helpers:Ran 1 commands in 0.7303 seconds\n"
     ]
    },
    {
     "name": "stdout",
     "output_type": "stream",
     "text": [
      "HLA-DQA1*05:05/DQB1*03:01 (7431)\n"
     ]
    },
    {
     "name": "stderr",
     "output_type": "stream",
     "text": [
      "INFO:mhctools.process_helpers:Ran 1 commands in 7823.7594 seconds\n"
     ]
    },
    {
     "name": "stdout",
     "output_type": "stream",
     "text": [
      "HLA-DRA1*01:01/DRB1*01:01 (3638)\n"
     ]
    },
    {
     "name": "stderr",
     "output_type": "stream",
     "text": [
      "INFO:mhctools.process_helpers:Ran 1 commands in 36.0668 seconds\n"
     ]
    },
    {
     "name": "stdout",
     "output_type": "stream",
     "text": [
      "HLA-DRA1*01:01/DRB1*01:02 (6)\n"
     ]
    },
    {
     "name": "stderr",
     "output_type": "stream",
     "text": [
      "INFO:mhctools.process_helpers:Ran 1 commands in 0.6665 seconds\n"
     ]
    },
    {
     "name": "stdout",
     "output_type": "stream",
     "text": [
      "HLA-DRA1*01:01/DRB1*01:03 (150)\n"
     ]
    },
    {
     "name": "stderr",
     "output_type": "stream",
     "text": [
      "INFO:mhctools.process_helpers:Ran 1 commands in 3.4945 seconds\n"
     ]
    },
    {
     "name": "stdout",
     "output_type": "stream",
     "text": [
      "HLA-DRA1*01:01/DRB1*03:01 (186)\n"
     ]
    },
    {
     "name": "stderr",
     "output_type": "stream",
     "text": [
      "INFO:mhctools.process_helpers:Ran 1 commands in 4.9150 seconds\n"
     ]
    },
    {
     "name": "stdout",
     "output_type": "stream",
     "text": [
      "HLA-DRA1*01:01/DRB1*04:01 (1254)\n"
     ]
    },
    {
     "name": "stderr",
     "output_type": "stream",
     "text": [
      "INFO:mhctools.process_helpers:Ran 1 commands in 17.6785 seconds\n"
     ]
    },
    {
     "name": "stdout",
     "output_type": "stream",
     "text": [
      "HLA-DRA1*01:01/DRB1*04:02 (51)\n"
     ]
    },
    {
     "name": "stderr",
     "output_type": "stream",
     "text": [
      "INFO:mhctools.process_helpers:Ran 1 commands in 1.0067 seconds\n"
     ]
    },
    {
     "name": "stdout",
     "output_type": "stream",
     "text": [
      "HLA-DRA1*01:01/DRB1*04:04 (55)\n"
     ]
    },
    {
     "name": "stderr",
     "output_type": "stream",
     "text": [
      "INFO:mhctools.process_helpers:Ran 1 commands in 0.6995 seconds\n"
     ]
    },
    {
     "name": "stdout",
     "output_type": "stream",
     "text": [
      "HLA-DRA1*01:01/DRB1*04:05 (35)\n"
     ]
    },
    {
     "name": "stderr",
     "output_type": "stream",
     "text": [
      "INFO:mhctools.process_helpers:Ran 1 commands in 0.5981 seconds\n"
     ]
    },
    {
     "name": "stdout",
     "output_type": "stream",
     "text": [
      "HLA-DRA1*01:01/DRB1*08:01 (486)\n"
     ]
    },
    {
     "name": "stderr",
     "output_type": "stream",
     "text": [
      "INFO:mhctools.process_helpers:Ran 1 commands in 5.5986 seconds\n"
     ]
    },
    {
     "name": "stdout",
     "output_type": "stream",
     "text": [
      "HLA-DRA1*01:01/DRB1*09:01 (18)\n"
     ]
    },
    {
     "name": "stderr",
     "output_type": "stream",
     "text": [
      "INFO:mhctools.process_helpers:Ran 1 commands in 0.3689 seconds\n"
     ]
    },
    {
     "name": "stdout",
     "output_type": "stream",
     "text": [
      "HLA-DRA1*01:01/DRB1*10:01 (238)\n"
     ]
    },
    {
     "name": "stderr",
     "output_type": "stream",
     "text": [
      "INFO:mhctools.process_helpers:Ran 1 commands in 3.7155 seconds\n"
     ]
    },
    {
     "name": "stdout",
     "output_type": "stream",
     "text": [
      "HLA-DRA1*01:01/DRB1*11:01 (104)\n"
     ]
    },
    {
     "name": "stderr",
     "output_type": "stream",
     "text": [
      "INFO:mhctools.process_helpers:Ran 1 commands in 1.0691 seconds\n"
     ]
    },
    {
     "name": "stdout",
     "output_type": "stream",
     "text": [
      "HLA-DRA1*01:01/DRB1*11:04 (24)\n"
     ]
    },
    {
     "name": "stderr",
     "output_type": "stream",
     "text": [
      "INFO:mhctools.process_helpers:Ran 1 commands in 0.4778 seconds\n"
     ]
    },
    {
     "name": "stdout",
     "output_type": "stream",
     "text": [
      "HLA-DRA1*01:01/DRB1*13:01 (24)\n"
     ]
    },
    {
     "name": "stderr",
     "output_type": "stream",
     "text": [
      "INFO:mhctools.process_helpers:Ran 1 commands in 0.4590 seconds\n"
     ]
    },
    {
     "name": "stdout",
     "output_type": "stream",
     "text": [
      "HLA-DRA1*01:01/DRB1*13:02 (22)\n"
     ]
    },
    {
     "name": "stderr",
     "output_type": "stream",
     "text": [
      "INFO:mhctools.process_helpers:Ran 1 commands in 0.4334 seconds\n"
     ]
    },
    {
     "name": "stdout",
     "output_type": "stream",
     "text": [
      "HLA-DRA1*01:01/DRB1*15:01 (678)\n"
     ]
    },
    {
     "name": "stderr",
     "output_type": "stream",
     "text": [
      "INFO:mhctools.process_helpers:Ran 1 commands in 6.9297 seconds\n"
     ]
    },
    {
     "name": "stdout",
     "output_type": "stream",
     "text": [
      "HLA-DRA1*01:01/DRB3*01:01 (4)\n"
     ]
    },
    {
     "name": "stderr",
     "output_type": "stream",
     "text": [
      "INFO:mhctools.process_helpers:Ran 1 commands in 0.2848 seconds\n"
     ]
    },
    {
     "name": "stdout",
     "output_type": "stream",
     "text": [
      "HLA-DRA1*01:01/DRB3*02:02 (13)\n"
     ]
    },
    {
     "name": "stderr",
     "output_type": "stream",
     "text": [
      "INFO:mhctools.process_helpers:Ran 1 commands in 0.4701 seconds\n"
     ]
    },
    {
     "name": "stdout",
     "output_type": "stream",
     "text": [
      "HLA-DRA1*01:01/DRB3*03:01 (3)\n"
     ]
    },
    {
     "name": "stderr",
     "output_type": "stream",
     "text": [
      "INFO:mhctools.process_helpers:Ran 1 commands in 0.3534 seconds\n"
     ]
    },
    {
     "name": "stdout",
     "output_type": "stream",
     "text": [
      "HLA-DRA1*01:01/DRB5*01:01 (223)\n"
     ]
    },
    {
     "name": "stderr",
     "output_type": "stream",
     "text": [
      "INFO:mhctools.process_helpers:Ran 1 commands in 3.5727 seconds\n"
     ]
    }
   ],
   "source": [
    "hit_predictions = []\n",
    "for (allele, df_hits_allele) in hits.groupby(\"inferred_allele\"):\n",
    "    print(\"%s (%d)\" % (allele, len(df_hits_allele)))\n",
    "    length_mask = df_hits_allele.peptide.str.len() >= 9\n",
    "    df_hits_allele_9mer_or_longer = df_hits_allele[length_mask]\n",
    "    preds = allele_to_predictors[allele].predict_peptides(list(df_hits_allele_9mer_or_longer.peptide))\n",
    "    for pred in preds:\n",
    "        pmhc_to_aff[(allele, pred.peptide)] = pred.affinity\n",
    "        pmhc_to_pr[(allele, pred.peptide)] = pred.percentile_rank\n",
    "    for peptide in df_hits_allele[~length_mask].peptide:\n",
    "        pmhc_to_aff[(allele, peptide)] = 50000\n",
    "        pmhc_to_pr[(allele, peptide)] = 100\n",
    "    \n"
   ]
  },
  {
   "cell_type": "code",
   "execution_count": 119,
   "metadata": {},
   "outputs": [],
   "source": [
    "hit_aff = []\n",
    "hit_pr = []\n",
    "for pair in zip(hits.inferred_allele, hits.peptide):\n",
    "    hit_aff.append(pmhc_to_aff[pair])\n",
    "    hit_pr.append(pmhc_to_pr[pair])\n",
    "hits[\"netmhciipan32_affinity\"] = hit_aff\n",
    "hits[\"netmhciipan32_percentile_rank\"] = hit_pr"
   ]
  },
  {
   "cell_type": "code",
   "execution_count": 124,
   "metadata": {},
   "outputs": [
    {
     "data": {
      "text/plain": [
       "<matplotlib.axes._subplots.AxesSubplot at 0x180083ba8>"
      ]
     },
     "execution_count": 124,
     "metadata": {},
     "output_type": "execute_result"
    },
    {
     "data": {
      "image/png": "[encoded data removed]",
      "text/plain": [
       "<matplotlib.figure.Figure at 0x17f3f82e8>"
      ]
     },
     "metadata": {},
     "output_type": "display_data"
    }
   ],
   "source": [
    "seaborn.distplot(hits.netmhciipan32_percentile_rank)"
   ]
  },
  {
   "cell_type": "code",
   "execution_count": 126,
   "metadata": {},
   "outputs": [],
   "source": [
    "hits.to_csv(\"iedb-mhc2-ligands-with-netmhciipan-predictions.csv\", index=False)"
   ]
  },
  {
   "cell_type": "code",
   "execution_count": null,
   "metadata": {},
   "outputs": [],
   "source": []
  }
 ],
 "metadata": {
  "kernelspec": {
   "display_name": "Python 3",
   "language": "python",
   "name": "python3"
  },
  "language_info": {
   "codemirror_mode": {
    "name": "ipython",
    "version": 3
   },
   "file_extension": ".py",
   "mimetype": "text/x-python",
   "name": "python",
   "nbconvert_exporter": "python",
   "pygments_lexer": "ipython3",
   "version": "3.6.5"
  }
 },
 "nbformat": 4,
 "nbformat_minor": 2
}
